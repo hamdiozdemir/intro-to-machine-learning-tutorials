{
 "cells": [
  {
   "cell_type": "code",
   "execution_count": 1,
   "id": "a12d0061",
   "metadata": {},
   "outputs": [],
   "source": [
    "from sklearn.datasets import fetch_openml\n",
    "from sklearn.model_selection import train_test_split\n",
    "\n",
    "x, y = fetch_openml('mnist_784', version=1, return_X_y=True, as_frame=False)\n",
    "x = x / 255.0\n",
    "\n",
    "x_train, x_test, y_train, y_test = train_test_split(x, y, random_state=0, test_size=0.7)"
   ]
  },
  {
   "cell_type": "code",
   "execution_count": 3,
   "id": "3b7b1f51",
   "metadata": {},
   "outputs": [
    {
     "data": {
      "text/html": [
       "<div>\n",
       "<style scoped>\n",
       "    .dataframe tbody tr th:only-of-type {\n",
       "        vertical-align: middle;\n",
       "    }\n",
       "\n",
       "    .dataframe tbody tr th {\n",
       "        vertical-align: top;\n",
       "    }\n",
       "\n",
       "    .dataframe thead th {\n",
       "        text-align: right;\n",
       "    }\n",
       "</style>\n",
       "<table border=\"1\" class=\"dataframe\">\n",
       "  <thead>\n",
       "    <tr style=\"text-align: right;\">\n",
       "      <th></th>\n",
       "      <th>0</th>\n",
       "      <th>1</th>\n",
       "      <th>2</th>\n",
       "      <th>3</th>\n",
       "      <th>4</th>\n",
       "      <th>5</th>\n",
       "      <th>6</th>\n",
       "      <th>7</th>\n",
       "      <th>8</th>\n",
       "      <th>9</th>\n",
       "      <th>...</th>\n",
       "      <th>775</th>\n",
       "      <th>776</th>\n",
       "      <th>777</th>\n",
       "      <th>778</th>\n",
       "      <th>779</th>\n",
       "      <th>780</th>\n",
       "      <th>781</th>\n",
       "      <th>782</th>\n",
       "      <th>783</th>\n",
       "      <th>label</th>\n",
       "    </tr>\n",
       "  </thead>\n",
       "  <tbody>\n",
       "    <tr>\n",
       "      <th>0</th>\n",
       "      <td>0.0</td>\n",
       "      <td>0.0</td>\n",
       "      <td>0.0</td>\n",
       "      <td>0.0</td>\n",
       "      <td>0.0</td>\n",
       "      <td>0.0</td>\n",
       "      <td>0.0</td>\n",
       "      <td>0.0</td>\n",
       "      <td>0.0</td>\n",
       "      <td>0.0</td>\n",
       "      <td>...</td>\n",
       "      <td>0.0</td>\n",
       "      <td>0.0</td>\n",
       "      <td>0.0</td>\n",
       "      <td>0.0</td>\n",
       "      <td>0.0</td>\n",
       "      <td>0.0</td>\n",
       "      <td>0.0</td>\n",
       "      <td>0.0</td>\n",
       "      <td>0.0</td>\n",
       "      <td>5</td>\n",
       "    </tr>\n",
       "    <tr>\n",
       "      <th>1</th>\n",
       "      <td>0.0</td>\n",
       "      <td>0.0</td>\n",
       "      <td>0.0</td>\n",
       "      <td>0.0</td>\n",
       "      <td>0.0</td>\n",
       "      <td>0.0</td>\n",
       "      <td>0.0</td>\n",
       "      <td>0.0</td>\n",
       "      <td>0.0</td>\n",
       "      <td>0.0</td>\n",
       "      <td>...</td>\n",
       "      <td>0.0</td>\n",
       "      <td>0.0</td>\n",
       "      <td>0.0</td>\n",
       "      <td>0.0</td>\n",
       "      <td>0.0</td>\n",
       "      <td>0.0</td>\n",
       "      <td>0.0</td>\n",
       "      <td>0.0</td>\n",
       "      <td>0.0</td>\n",
       "      <td>0</td>\n",
       "    </tr>\n",
       "    <tr>\n",
       "      <th>2</th>\n",
       "      <td>0.0</td>\n",
       "      <td>0.0</td>\n",
       "      <td>0.0</td>\n",
       "      <td>0.0</td>\n",
       "      <td>0.0</td>\n",
       "      <td>0.0</td>\n",
       "      <td>0.0</td>\n",
       "      <td>0.0</td>\n",
       "      <td>0.0</td>\n",
       "      <td>0.0</td>\n",
       "      <td>...</td>\n",
       "      <td>0.0</td>\n",
       "      <td>0.0</td>\n",
       "      <td>0.0</td>\n",
       "      <td>0.0</td>\n",
       "      <td>0.0</td>\n",
       "      <td>0.0</td>\n",
       "      <td>0.0</td>\n",
       "      <td>0.0</td>\n",
       "      <td>0.0</td>\n",
       "      <td>4</td>\n",
       "    </tr>\n",
       "    <tr>\n",
       "      <th>3</th>\n",
       "      <td>0.0</td>\n",
       "      <td>0.0</td>\n",
       "      <td>0.0</td>\n",
       "      <td>0.0</td>\n",
       "      <td>0.0</td>\n",
       "      <td>0.0</td>\n",
       "      <td>0.0</td>\n",
       "      <td>0.0</td>\n",
       "      <td>0.0</td>\n",
       "      <td>0.0</td>\n",
       "      <td>...</td>\n",
       "      <td>0.0</td>\n",
       "      <td>0.0</td>\n",
       "      <td>0.0</td>\n",
       "      <td>0.0</td>\n",
       "      <td>0.0</td>\n",
       "      <td>0.0</td>\n",
       "      <td>0.0</td>\n",
       "      <td>0.0</td>\n",
       "      <td>0.0</td>\n",
       "      <td>1</td>\n",
       "    </tr>\n",
       "    <tr>\n",
       "      <th>4</th>\n",
       "      <td>0.0</td>\n",
       "      <td>0.0</td>\n",
       "      <td>0.0</td>\n",
       "      <td>0.0</td>\n",
       "      <td>0.0</td>\n",
       "      <td>0.0</td>\n",
       "      <td>0.0</td>\n",
       "      <td>0.0</td>\n",
       "      <td>0.0</td>\n",
       "      <td>0.0</td>\n",
       "      <td>...</td>\n",
       "      <td>0.0</td>\n",
       "      <td>0.0</td>\n",
       "      <td>0.0</td>\n",
       "      <td>0.0</td>\n",
       "      <td>0.0</td>\n",
       "      <td>0.0</td>\n",
       "      <td>0.0</td>\n",
       "      <td>0.0</td>\n",
       "      <td>0.0</td>\n",
       "      <td>9</td>\n",
       "    </tr>\n",
       "  </tbody>\n",
       "</table>\n",
       "<p>5 rows × 785 columns</p>\n",
       "</div>"
      ],
      "text/plain": [
       "     0    1    2    3    4    5    6    7    8    9  ...  775  776  777  778  \\\n",
       "0  0.0  0.0  0.0  0.0  0.0  0.0  0.0  0.0  0.0  0.0  ...  0.0  0.0  0.0  0.0   \n",
       "1  0.0  0.0  0.0  0.0  0.0  0.0  0.0  0.0  0.0  0.0  ...  0.0  0.0  0.0  0.0   \n",
       "2  0.0  0.0  0.0  0.0  0.0  0.0  0.0  0.0  0.0  0.0  ...  0.0  0.0  0.0  0.0   \n",
       "3  0.0  0.0  0.0  0.0  0.0  0.0  0.0  0.0  0.0  0.0  ...  0.0  0.0  0.0  0.0   \n",
       "4  0.0  0.0  0.0  0.0  0.0  0.0  0.0  0.0  0.0  0.0  ...  0.0  0.0  0.0  0.0   \n",
       "\n",
       "   779  780  781  782  783  label  \n",
       "0  0.0  0.0  0.0  0.0  0.0      5  \n",
       "1  0.0  0.0  0.0  0.0  0.0      0  \n",
       "2  0.0  0.0  0.0  0.0  0.0      4  \n",
       "3  0.0  0.0  0.0  0.0  0.0      1  \n",
       "4  0.0  0.0  0.0  0.0  0.0      9  \n",
       "\n",
       "[5 rows x 785 columns]"
      ]
     },
     "execution_count": 3,
     "metadata": {},
     "output_type": "execute_result"
    }
   ],
   "source": [
    "import pandas as pd\n",
    "\n",
    "data = pd.DataFrame(x)\n",
    "data.insert(784, 'label', y)\n",
    "data.head()"
   ]
  },
  {
   "cell_type": "code",
   "execution_count": 5,
   "id": "928b0203",
   "metadata": {},
   "outputs": [
    {
     "data": {
      "image/png": "[encoded data removed]",
      "text/plain": [
       "<Figure size 432x288 with 1 Axes>"
      ]
     },
     "metadata": {
      "needs_background": "light"
     },
     "output_type": "display_data"
    },
    {
     "data": {
      "image/png": "[encoded data removed]",
      "text/plain": [
       "<Figure size 432x288 with 1 Axes>"
      ]
     },
     "metadata": {
      "needs_background": "light"
     },
     "output_type": "display_data"
    },
    {
     "data": {
      "image/png": "[encoded data removed]",
      "text/plain": [
       "<Figure size 432x288 with 1 Axes>"
      ]
     },
     "metadata": {
      "needs_background": "light"
     },
     "output_type": "display_data"
    },
    {
     "data": {
      "image/png": "[encoded data removed]",
      "text/plain": [
       "<Figure size 432x288 with 1 Axes>"
      ]
     },
     "metadata": {
      "needs_background": "light"
     },
     "output_type": "display_data"
    },
    {
     "data": {
      "image/png": "[encoded data removed]",
      "text/plain": [
       "<Figure size 432x288 with 1 Axes>"
      ]
     },
     "metadata": {
      "needs_background": "light"
     },
     "output_type": "display_data"
    }
   ],
   "source": [
    "import matplotlib.pyplot as plt\n",
    "\n",
    "for i in range(5):\n",
    "    plt.imshow(x[i].reshape((28, 28)), cmap='gray')\n",
    "    plt.show()"
   ]
  },
  {
   "cell_type": "code",
   "execution_count": 7,
   "id": "02e13276",
   "metadata": {},
   "outputs": [],
   "source": [
    "from sklearn.neural_network import MLPClassifier\n",
    "# MLP - Multi Layer Perceptron Classsifier\n",
    "\n",
    "mlp = MLPClassifier(hidden_layer_sizes=1, activation='logistic')\n",
    "mlp2 = MLPClassifier(hidden_layer_sizes=100, activation='logistic')\n",
    "mlp3 = MLPClassifier(hidden_layer_sizes=1000, activation='logistic')"
   ]
  },
  {
   "cell_type": "code",
   "execution_count": 8,
   "id": "e19ff46e",
   "metadata": {},
   "outputs": [
    {
     "name": "stderr",
     "output_type": "stream",
     "text": [
      "C:\\Users\\hamdiozdemir\\Anaconda3\\lib\\site-packages\\sklearn\\neural_network\\_multilayer_perceptron.py:582: ConvergenceWarning: Stochastic Optimizer: Maximum iterations (200) reached and the optimization hasn't converged yet.\n",
      "  warnings.warn(\n"
     ]
    },
    {
     "data": {
      "text/plain": [
       "MLPClassifier(activation='logistic', hidden_layer_sizes=1000)"
      ]
     },
     "execution_count": 8,
     "metadata": {},
     "output_type": "execute_result"
    }
   ],
   "source": [
    "mlp.fit(x_train, y_train)\n",
    "mlp2.fit(x_train, y_train)\n",
    "mlp3.fit(x_train, y_train)"
   ]
  },
  {
   "cell_type": "code",
   "execution_count": 9,
   "id": "fdfd8fc4",
   "metadata": {},
   "outputs": [
    {
     "data": {
      "text/plain": [
       "array(['0', '7', '1', ..., '8', '1', '0'], dtype='<U1')"
      ]
     },
     "execution_count": 9,
     "metadata": {},
     "output_type": "execute_result"
    }
   ],
   "source": [
    "predictions_NN = mlp.predict(x_test)\n",
    "predictions_NN"
   ]
  },
  {
   "cell_type": "code",
   "execution_count": 10,
   "id": "fb18bb4a",
   "metadata": {},
   "outputs": [
    {
     "data": {
      "text/plain": [
       "array(['0', '4', '1', ..., '8', '3', '9'], dtype='<U1')"
      ]
     },
     "execution_count": 10,
     "metadata": {},
     "output_type": "execute_result"
    }
   ],
   "source": [
    "predictions_NN2 = mlp2.predict(x_test)\n",
    "predictions_NN2"
   ]
  },
  {
   "cell_type": "code",
   "execution_count": 11,
   "id": "d032f4a8",
   "metadata": {},
   "outputs": [
    {
     "data": {
      "text/plain": [
       "array(['0', '4', '1', ..., '8', '3', '9'], dtype='<U1')"
      ]
     },
     "execution_count": 11,
     "metadata": {},
     "output_type": "execute_result"
    }
   ],
   "source": [
    "predictions_NN3 = mlp3.predict(x_test)\n",
    "predictions_NN3"
   ]
  },
  {
   "cell_type": "code",
   "execution_count": 14,
   "id": "caa85ec3",
   "metadata": {},
   "outputs": [
    {
     "name": "stdout",
     "output_type": "stream",
     "text": [
      "Actual Value: 4\n",
      "Predicted Value for 1 Hidden Layer: 7\n",
      "Predicted Value for 100 Hidden Layer: 4\n",
      "Predicted Value for 1000 Hidden Layer: 4\n"
     ]
    }
   ],
   "source": [
    "print(f\"Actual Value: {y_test[1]}\")\n",
    "print(f\"Predicted Value for 1 Hidden Layer: {predictions_NN[1]}\")\n",
    "print(f\"Predicted Value for 100 Hidden Layer: {predictions_NN2[1]}\")\n",
    "print(f\"Predicted Value for 1000 Hidden Layer: {predictions_NN3[1]}\")"
   ]
  },
  {
   "cell_type": "code",
   "execution_count": 16,
   "id": "65b89424",
   "metadata": {},
   "outputs": [
    {
     "data": {
      "image/png": "[encoded data removed]",
      "text/plain": [
       "<Figure size 432x288 with 1 Axes>"
      ]
     },
     "metadata": {
      "needs_background": "light"
     },
     "output_type": "display_data"
    }
   ],
   "source": [
    "plt.imshow(x_test[1].reshape((28, 28)), cmap='gray')\n",
    "plt.show()"
   ]
  },
  {
   "cell_type": "code",
   "execution_count": 17,
   "id": "37737acc",
   "metadata": {},
   "outputs": [
    {
     "data": {
      "text/plain": [
       "array([[2624,  195,    0,  232,  837,  144,   60,  245,  574,    0],\n",
       "       [  25, 4418,    0,  401,    9,    5,  622,    9,   55,    0],\n",
       "       [ 209, 1283,    0,  567,   55,   28, 2422,   28,  304,    0],\n",
       "       [ 594, 1083,    0, 1650,  109,  100,  287,  115, 1048,    0],\n",
       "       [ 329,   16,    0,   36,  784,   10,   13, 3513,   67,    0],\n",
       "       [1656,  221,    0,  520,  413,  179,  103,  259, 1033,    0],\n",
       "       [  83,  936,    0,  205,   18,   12, 3394,   11,  121,    0],\n",
       "       [ 231,   23,    0,   52,  302,   13,    4, 4388,   59,    0],\n",
       "       [1157,  578,    0, 1151,  223,  160,   42,  120, 1326,    0],\n",
       "       [ 171,    9,    0,    5,  329,    7,    1, 4344,   36,    0]],\n",
       "      dtype=int64)"
      ]
     },
     "execution_count": 17,
     "metadata": {},
     "output_type": "execute_result"
    }
   ],
   "source": [
    "from sklearn.metrics import confusion_matrix\n",
    "confusion_matrix(y_test, predictions_NN)"
   ]
  },
  {
   "cell_type": "code",
   "execution_count": 18,
   "id": "ca702de3",
   "metadata": {},
   "outputs": [
    {
     "data": {
      "text/plain": [
       "array([[4807,    1,   10,    5,    9,   13,   30,    4,   26,    6],\n",
       "       [   1, 5466,   24,   10,    6,    3,    5,   10,   13,    6],\n",
       "       [  15,    9, 4712,   21,   37,    6,   16,   39,   36,    5],\n",
       "       [  11,   12,   65, 4713,    5,   73,    6,   26,   50,   25],\n",
       "       [   9,    9,   14,    2, 4618,    3,   18,   12,    7,   76],\n",
       "       [  17,    3,   14,   52,   14, 4188,   39,    6,   29,   22],\n",
       "       [  24,   11,   19,    0,   22,   23, 4657,    8,   16,    0],\n",
       "       [   4,   21,   37,   13,   30,    6,    0, 4915,    7,   39],\n",
       "       [  24,   35,   23,   36,   20,   47,   22,    5, 4517,   28],\n",
       "       [  20,   11,    5,   34,   89,   22,    1,   71,   15, 4634]],\n",
       "      dtype=int64)"
      ]
     },
     "execution_count": 18,
     "metadata": {},
     "output_type": "execute_result"
    }
   ],
   "source": [
    "confusion_matrix(y_test, predictions_NN2)"
   ]
  },
  {
   "cell_type": "code",
   "execution_count": 19,
   "id": "caa78baa",
   "metadata": {},
   "outputs": [
    {
     "data": {
      "text/plain": [
       "array([[4811,    2,   15,    5,    7,   13,   22,    5,   21,   10],\n",
       "       [   1, 5467,   29,    8,    5,    1,    6,   10,    9,    8],\n",
       "       [  15,    7, 4741,   16,   31,    2,   13,   38,   26,    7],\n",
       "       [   6,   11,   67, 4752,    4,   48,    3,   25,   50,   20],\n",
       "       [   5,   10,   16,    3, 4631,    3,   16,   12,    7,   65],\n",
       "       [  13,    8,   15,   43,   11, 4205,   36,   10,   22,   21],\n",
       "       [  15,   11,   18,    3,   15,   19, 4677,    7,   15,    0],\n",
       "       [   0,   16,   37,    7,   31,    3,    0, 4936,    5,   37],\n",
       "       [  16,   30,   25,   39,   14,   28,   21,    3, 4555,   26],\n",
       "       [  18,    9,    2,   33,   60,   23,    3,   64,   16, 4674]],\n",
       "      dtype=int64)"
      ]
     },
     "execution_count": 19,
     "metadata": {},
     "output_type": "execute_result"
    }
   ],
   "source": [
    "confusion_matrix(y_test, predictions_NN3)"
   ]
  },
  {
   "cell_type": "code",
   "execution_count": 20,
   "id": "b2f638de",
   "metadata": {},
   "outputs": [
    {
     "name": "stderr",
     "output_type": "stream",
     "text": [
      "C:\\Users\\hamdiozdemir\\Anaconda3\\lib\\site-packages\\sklearn\\metrics\\_classification.py:1221: UndefinedMetricWarning: Precision and F-score are ill-defined and being set to 0.0 in labels with no predicted samples. Use `zero_division` parameter to control this behavior.\n",
      "  _warn_prf(average, modifier, msg_start, len(result))\n"
     ]
    },
    {
     "name": "stdout",
     "output_type": "stream",
     "text": [
      "              precision    recall  f1-score   support\n",
      "\n",
      "           0       0.37      0.53      0.44      4911\n",
      "           1       0.50      0.80      0.62      5544\n",
      "           2       0.00      0.00      0.00      4896\n",
      "           3       0.34      0.33      0.34      4986\n",
      "           4       0.25      0.16      0.20      4768\n",
      "           5       0.27      0.04      0.07      4384\n",
      "           6       0.49      0.71      0.58      4780\n",
      "           7       0.34      0.87      0.48      5072\n",
      "           8       0.29      0.28      0.28      4757\n",
      "           9       0.00      0.00      0.00      4902\n",
      "\n",
      "    accuracy                           0.38     49000\n",
      "   macro avg       0.29      0.37      0.30     49000\n",
      "weighted avg       0.29      0.38      0.31     49000\n",
      "\n"
     ]
    }
   ],
   "source": [
    "from sklearn.metrics import classification_report\n",
    "print(classification_report(y_test, predictions_NN))"
   ]
  },
  {
   "cell_type": "code",
   "execution_count": 21,
   "id": "d81f4af9",
   "metadata": {},
   "outputs": [
    {
     "name": "stdout",
     "output_type": "stream",
     "text": [
      "              precision    recall  f1-score   support\n",
      "\n",
      "           0       0.97      0.98      0.98      4911\n",
      "           1       0.98      0.99      0.98      5544\n",
      "           2       0.96      0.96      0.96      4896\n",
      "           3       0.96      0.95      0.95      4986\n",
      "           4       0.95      0.97      0.96      4768\n",
      "           5       0.96      0.96      0.96      4384\n",
      "           6       0.97      0.97      0.97      4780\n",
      "           7       0.96      0.97      0.97      5072\n",
      "           8       0.96      0.95      0.95      4757\n",
      "           9       0.96      0.95      0.95      4902\n",
      "\n",
      "    accuracy                           0.96     49000\n",
      "   macro avg       0.96      0.96      0.96     49000\n",
      "weighted avg       0.96      0.96      0.96     49000\n",
      "\n"
     ]
    }
   ],
   "source": [
    "print(classification_report(y_test, predictions_NN2))"
   ]
  },
  {
   "cell_type": "code",
   "execution_count": 22,
   "id": "08b05c7d",
   "metadata": {},
   "outputs": [
    {
     "name": "stdout",
     "output_type": "stream",
     "text": [
      "              precision    recall  f1-score   support\n",
      "\n",
      "           0       0.98      0.98      0.98      4911\n",
      "           1       0.98      0.99      0.98      5544\n",
      "           2       0.95      0.97      0.96      4896\n",
      "           3       0.97      0.95      0.96      4986\n",
      "           4       0.96      0.97      0.97      4768\n",
      "           5       0.97      0.96      0.96      4384\n",
      "           6       0.97      0.98      0.98      4780\n",
      "           7       0.97      0.97      0.97      5072\n",
      "           8       0.96      0.96      0.96      4757\n",
      "           9       0.96      0.95      0.96      4902\n",
      "\n",
      "    accuracy                           0.97     49000\n",
      "   macro avg       0.97      0.97      0.97     49000\n",
      "weighted avg       0.97      0.97      0.97     49000\n",
      "\n"
     ]
    }
   ],
   "source": [
    "print(classification_report(y_test, predictions_NN3))"
   ]
  },
  {
   "cell_type": "code",
   "execution_count": null,
   "id": "7d0a27d5",
   "metadata": {},
   "outputs": [],
   "source": []
  }
 ],
 "metadata": {
  "kernelspec": {
   "display_name": "Python 3",
   "language": "python",
   "name": "python3"
  },
  "language_info": {
   "codemirror_mode": {
    "name": "ipython",
    "version": 3
   },
   "file_extension": ".py",
   "mimetype": "text/x-python",
   "name": "python",
   "nbconvert_exporter": "python",
   "pygments_lexer": "ipython3",
   "version": "3.8.5"
  }
 },
 "nbformat": 4,
 "nbformat_minor": 5
}
