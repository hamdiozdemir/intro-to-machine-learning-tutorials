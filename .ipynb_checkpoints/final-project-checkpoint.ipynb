{
 "cells": [
  {
   "cell_type": "code",
   "execution_count": 1,
   "id": "0d7e4a51",
   "metadata": {},
   "outputs": [],
   "source": [
    "import pandas as pd\n",
    "import matplotlib.pyplot as plt"
   ]
  },
  {
   "cell_type": "code",
   "execution_count": 2,
   "id": "292dd5c5",
   "metadata": {},
   "outputs": [],
   "source": [
    "from sklearn.preprocessing import LabelEncoder\n",
    "from sklearn.model_selection import train_test_split"
   ]
  },
  {
   "cell_type": "code",
   "execution_count": 4,
   "id": "5184544d",
   "metadata": {},
   "outputs": [],
   "source": [
    "from sklearn.linear_model import LogisticRegression, RidgeClassifier\n",
    "from sklearn.tree import DecisionTreeClassifier\n",
    "from sklearn.naive_bayes import GaussianNB\n",
    "from sklearn.neural_network import MLPClassifier\n",
    "from sklearn.ensemble import RandomForestClassifier\n",
    "\n",
    "from sklearn.metrics import classification_report"
   ]
  },
  {
   "cell_type": "code",
   "execution_count": 5,
   "id": "2641b01a",
   "metadata": {},
   "outputs": [],
   "source": [
    "data = pd.read_csv('mushrooms.csv')"
   ]
  },
  {
   "cell_type": "code",
   "execution_count": 6,
   "id": "b96771ec",
   "metadata": {},
   "outputs": [
    {
     "data": {
      "text/html": [
       "<div>\n",
       "<style scoped>\n",
       "    .dataframe tbody tr th:only-of-type {\n",
       "        vertical-align: middle;\n",
       "    }\n",
       "\n",
       "    .dataframe tbody tr th {\n",
       "        vertical-align: top;\n",
       "    }\n",
       "\n",
       "    .dataframe thead th {\n",
       "        text-align: right;\n",
       "    }\n",
       "</style>\n",
       "<table border=\"1\" class=\"dataframe\">\n",
       "  <thead>\n",
       "    <tr style=\"text-align: right;\">\n",
       "      <th></th>\n",
       "      <th>class</th>\n",
       "      <th>cap-shape</th>\n",
       "      <th>cap-surface</th>\n",
       "      <th>cap-color</th>\n",
       "      <th>bruises</th>\n",
       "      <th>odor</th>\n",
       "      <th>gill-attachment</th>\n",
       "      <th>gill-spacing</th>\n",
       "      <th>gill-size</th>\n",
       "      <th>gill-color</th>\n",
       "      <th>...</th>\n",
       "      <th>stalk-surface-below-ring</th>\n",
       "      <th>stalk-color-above-ring</th>\n",
       "      <th>stalk-color-below-ring</th>\n",
       "      <th>veil-type</th>\n",
       "      <th>veil-color</th>\n",
       "      <th>ring-number</th>\n",
       "      <th>ring-type</th>\n",
       "      <th>spore-print-color</th>\n",
       "      <th>population</th>\n",
       "      <th>habitat</th>\n",
       "    </tr>\n",
       "  </thead>\n",
       "  <tbody>\n",
       "    <tr>\n",
       "      <th>0</th>\n",
       "      <td>p</td>\n",
       "      <td>x</td>\n",
       "      <td>s</td>\n",
       "      <td>n</td>\n",
       "      <td>t</td>\n",
       "      <td>p</td>\n",
       "      <td>f</td>\n",
       "      <td>c</td>\n",
       "      <td>n</td>\n",
       "      <td>k</td>\n",
       "      <td>...</td>\n",
       "      <td>s</td>\n",
       "      <td>w</td>\n",
       "      <td>w</td>\n",
       "      <td>p</td>\n",
       "      <td>w</td>\n",
       "      <td>o</td>\n",
       "      <td>p</td>\n",
       "      <td>k</td>\n",
       "      <td>s</td>\n",
       "      <td>u</td>\n",
       "    </tr>\n",
       "    <tr>\n",
       "      <th>1</th>\n",
       "      <td>e</td>\n",
       "      <td>x</td>\n",
       "      <td>s</td>\n",
       "      <td>y</td>\n",
       "      <td>t</td>\n",
       "      <td>a</td>\n",
       "      <td>f</td>\n",
       "      <td>c</td>\n",
       "      <td>b</td>\n",
       "      <td>k</td>\n",
       "      <td>...</td>\n",
       "      <td>s</td>\n",
       "      <td>w</td>\n",
       "      <td>w</td>\n",
       "      <td>p</td>\n",
       "      <td>w</td>\n",
       "      <td>o</td>\n",
       "      <td>p</td>\n",
       "      <td>n</td>\n",
       "      <td>n</td>\n",
       "      <td>g</td>\n",
       "    </tr>\n",
       "    <tr>\n",
       "      <th>2</th>\n",
       "      <td>e</td>\n",
       "      <td>b</td>\n",
       "      <td>s</td>\n",
       "      <td>w</td>\n",
       "      <td>t</td>\n",
       "      <td>l</td>\n",
       "      <td>f</td>\n",
       "      <td>c</td>\n",
       "      <td>b</td>\n",
       "      <td>n</td>\n",
       "      <td>...</td>\n",
       "      <td>s</td>\n",
       "      <td>w</td>\n",
       "      <td>w</td>\n",
       "      <td>p</td>\n",
       "      <td>w</td>\n",
       "      <td>o</td>\n",
       "      <td>p</td>\n",
       "      <td>n</td>\n",
       "      <td>n</td>\n",
       "      <td>m</td>\n",
       "    </tr>\n",
       "    <tr>\n",
       "      <th>3</th>\n",
       "      <td>p</td>\n",
       "      <td>x</td>\n",
       "      <td>y</td>\n",
       "      <td>w</td>\n",
       "      <td>t</td>\n",
       "      <td>p</td>\n",
       "      <td>f</td>\n",
       "      <td>c</td>\n",
       "      <td>n</td>\n",
       "      <td>n</td>\n",
       "      <td>...</td>\n",
       "      <td>s</td>\n",
       "      <td>w</td>\n",
       "      <td>w</td>\n",
       "      <td>p</td>\n",
       "      <td>w</td>\n",
       "      <td>o</td>\n",
       "      <td>p</td>\n",
       "      <td>k</td>\n",
       "      <td>s</td>\n",
       "      <td>u</td>\n",
       "    </tr>\n",
       "    <tr>\n",
       "      <th>4</th>\n",
       "      <td>e</td>\n",
       "      <td>x</td>\n",
       "      <td>s</td>\n",
       "      <td>g</td>\n",
       "      <td>f</td>\n",
       "      <td>n</td>\n",
       "      <td>f</td>\n",
       "      <td>w</td>\n",
       "      <td>b</td>\n",
       "      <td>k</td>\n",
       "      <td>...</td>\n",
       "      <td>s</td>\n",
       "      <td>w</td>\n",
       "      <td>w</td>\n",
       "      <td>p</td>\n",
       "      <td>w</td>\n",
       "      <td>o</td>\n",
       "      <td>e</td>\n",
       "      <td>n</td>\n",
       "      <td>a</td>\n",
       "      <td>g</td>\n",
       "    </tr>\n",
       "  </tbody>\n",
       "</table>\n",
       "<p>5 rows × 23 columns</p>\n",
       "</div>"
      ],
      "text/plain": [
       "  class cap-shape cap-surface cap-color bruises odor gill-attachment  \\\n",
       "0     p         x           s         n       t    p               f   \n",
       "1     e         x           s         y       t    a               f   \n",
       "2     e         b           s         w       t    l               f   \n",
       "3     p         x           y         w       t    p               f   \n",
       "4     e         x           s         g       f    n               f   \n",
       "\n",
       "  gill-spacing gill-size gill-color  ... stalk-surface-below-ring  \\\n",
       "0            c         n          k  ...                        s   \n",
       "1            c         b          k  ...                        s   \n",
       "2            c         b          n  ...                        s   \n",
       "3            c         n          n  ...                        s   \n",
       "4            w         b          k  ...                        s   \n",
       "\n",
       "  stalk-color-above-ring stalk-color-below-ring veil-type veil-color  \\\n",
       "0                      w                      w         p          w   \n",
       "1                      w                      w         p          w   \n",
       "2                      w                      w         p          w   \n",
       "3                      w                      w         p          w   \n",
       "4                      w                      w         p          w   \n",
       "\n",
       "  ring-number ring-type spore-print-color population habitat  \n",
       "0           o         p                 k          s       u  \n",
       "1           o         p                 n          n       g  \n",
       "2           o         p                 n          n       m  \n",
       "3           o         p                 k          s       u  \n",
       "4           o         e                 n          a       g  \n",
       "\n",
       "[5 rows x 23 columns]"
      ]
     },
     "execution_count": 6,
     "metadata": {},
     "output_type": "execute_result"
    }
   ],
   "source": [
    "data.head()"
   ]
  },
  {
   "cell_type": "code",
   "execution_count": 8,
   "id": "2169f21a",
   "metadata": {},
   "outputs": [
    {
     "data": {
      "text/plain": [
       "e    4208\n",
       "p    3916\n",
       "Name: class, dtype: int64"
      ]
     },
     "execution_count": 8,
     "metadata": {},
     "output_type": "execute_result"
    }
   ],
   "source": [
    "classes = data['class'].value_counts()\n",
    "classes"
   ]
  },
  {
   "cell_type": "code",
   "execution_count": 10,
   "id": "722d8659",
   "metadata": {},
   "outputs": [
    {
     "data": {
      "image/png": "[encoded data removed]",
      "text/plain": [
       "<Figure size 432x288 with 1 Axes>"
      ]
     },
     "metadata": {
      "needs_background": "light"
     },
     "output_type": "display_data"
    }
   ],
   "source": [
    "plt.bar('Edible', classes['e'])\n",
    "plt.bar('Poisonous', classes['p'])\n",
    "plt.show()"
   ]
  },
  {
   "cell_type": "code",
   "execution_count": 13,
   "id": "9bb7e0a3",
   "metadata": {},
   "outputs": [],
   "source": [
    "x = data.loc[:, ['cap-shape', 'cap-color', 'ring-number', 'ring-type']]\n",
    "y = data.loc[:, 'class']"
   ]
  },
  {
   "cell_type": "code",
   "execution_count": 14,
   "id": "2c5f0181",
   "metadata": {},
   "outputs": [],
   "source": [
    "encoder = LabelEncoder()\n",
    "\n",
    "for i in x.columns:\n",
    "    x[i] = encoder.fit_transform(x[i])\n",
    "\n",
    "\n",
    "y = encoder.fit_transform(y)"
   ]
  },
  {
   "cell_type": "code",
   "execution_count": 15,
   "id": "2131e934",
   "metadata": {},
   "outputs": [
    {
     "data": {
      "text/html": [
       "<div>\n",
       "<style scoped>\n",
       "    .dataframe tbody tr th:only-of-type {\n",
       "        vertical-align: middle;\n",
       "    }\n",
       "\n",
       "    .dataframe tbody tr th {\n",
       "        vertical-align: top;\n",
       "    }\n",
       "\n",
       "    .dataframe thead th {\n",
       "        text-align: right;\n",
       "    }\n",
       "</style>\n",
       "<table border=\"1\" class=\"dataframe\">\n",
       "  <thead>\n",
       "    <tr style=\"text-align: right;\">\n",
       "      <th></th>\n",
       "      <th>cap-shape</th>\n",
       "      <th>cap-color</th>\n",
       "      <th>ring-number</th>\n",
       "      <th>ring-type</th>\n",
       "    </tr>\n",
       "  </thead>\n",
       "  <tbody>\n",
       "    <tr>\n",
       "      <th>0</th>\n",
       "      <td>5</td>\n",
       "      <td>4</td>\n",
       "      <td>1</td>\n",
       "      <td>4</td>\n",
       "    </tr>\n",
       "    <tr>\n",
       "      <th>1</th>\n",
       "      <td>5</td>\n",
       "      <td>9</td>\n",
       "      <td>1</td>\n",
       "      <td>4</td>\n",
       "    </tr>\n",
       "    <tr>\n",
       "      <th>2</th>\n",
       "      <td>0</td>\n",
       "      <td>8</td>\n",
       "      <td>1</td>\n",
       "      <td>4</td>\n",
       "    </tr>\n",
       "    <tr>\n",
       "      <th>3</th>\n",
       "      <td>5</td>\n",
       "      <td>8</td>\n",
       "      <td>1</td>\n",
       "      <td>4</td>\n",
       "    </tr>\n",
       "    <tr>\n",
       "      <th>4</th>\n",
       "      <td>5</td>\n",
       "      <td>3</td>\n",
       "      <td>1</td>\n",
       "      <td>0</td>\n",
       "    </tr>\n",
       "    <tr>\n",
       "      <th>...</th>\n",
       "      <td>...</td>\n",
       "      <td>...</td>\n",
       "      <td>...</td>\n",
       "      <td>...</td>\n",
       "    </tr>\n",
       "    <tr>\n",
       "      <th>8119</th>\n",
       "      <td>3</td>\n",
       "      <td>4</td>\n",
       "      <td>1</td>\n",
       "      <td>4</td>\n",
       "    </tr>\n",
       "    <tr>\n",
       "      <th>8120</th>\n",
       "      <td>5</td>\n",
       "      <td>4</td>\n",
       "      <td>1</td>\n",
       "      <td>4</td>\n",
       "    </tr>\n",
       "    <tr>\n",
       "      <th>8121</th>\n",
       "      <td>2</td>\n",
       "      <td>4</td>\n",
       "      <td>1</td>\n",
       "      <td>4</td>\n",
       "    </tr>\n",
       "    <tr>\n",
       "      <th>8122</th>\n",
       "      <td>3</td>\n",
       "      <td>4</td>\n",
       "      <td>1</td>\n",
       "      <td>0</td>\n",
       "    </tr>\n",
       "    <tr>\n",
       "      <th>8123</th>\n",
       "      <td>5</td>\n",
       "      <td>4</td>\n",
       "      <td>1</td>\n",
       "      <td>4</td>\n",
       "    </tr>\n",
       "  </tbody>\n",
       "</table>\n",
       "<p>8124 rows × 4 columns</p>\n",
       "</div>"
      ],
      "text/plain": [
       "      cap-shape  cap-color  ring-number  ring-type\n",
       "0             5          4            1          4\n",
       "1             5          9            1          4\n",
       "2             0          8            1          4\n",
       "3             5          8            1          4\n",
       "4             5          3            1          0\n",
       "...         ...        ...          ...        ...\n",
       "8119          3          4            1          4\n",
       "8120          5          4            1          4\n",
       "8121          2          4            1          4\n",
       "8122          3          4            1          0\n",
       "8123          5          4            1          4\n",
       "\n",
       "[8124 rows x 4 columns]"
      ]
     },
     "execution_count": 15,
     "metadata": {},
     "output_type": "execute_result"
    }
   ],
   "source": [
    "x"
   ]
  },
  {
   "cell_type": "code",
   "execution_count": 16,
   "id": "a344f124",
   "metadata": {},
   "outputs": [
    {
     "data": {
      "text/plain": [
       "array([1, 0, 0, ..., 0, 1, 0])"
      ]
     },
     "execution_count": 16,
     "metadata": {},
     "output_type": "execute_result"
    }
   ],
   "source": [
    "y"
   ]
  },
  {
   "cell_type": "code",
   "execution_count": 17,
   "id": "96249440",
   "metadata": {},
   "outputs": [],
   "source": [
    "# split the training and test datasets\n",
    "\n",
    "x_train, x_test, y_train, y_test = train_test_split(x, y, test_size=0.3)"
   ]
  },
  {
   "cell_type": "code",
   "execution_count": 19,
   "id": "0520d39a",
   "metadata": {},
   "outputs": [],
   "source": [
    "# LogisticRegression Model\n",
    "logistic_classifier_model = LogisticRegression()\n",
    "\n",
    "# RidgeClassifier Model\n",
    "ridge_classifier_model = RidgeClassifier()\n",
    "\n",
    "# DecisionTreeClassifier\n",
    "decision_tree_model = DecisionTreeClassifier()\n",
    "\n",
    "# Naive Bayes - GaussianNB model\n",
    "naive_bayes_model = GaussianNB()\n",
    "\n",
    "#MLPClasssifer \n",
    "neural_network_model = MLPClassifier()"
   ]
  },
  {
   "cell_type": "markdown",
   "id": "5882ee85",
   "metadata": {},
   "source": [
    "#Train Models"
   ]
  },
  {
   "cell_type": "code",
   "execution_count": 20,
   "id": "4fffa6e4",
   "metadata": {},
   "outputs": [
    {
     "name": "stderr",
     "output_type": "stream",
     "text": [
      "C:\\Users\\hamdiozdemir\\Anaconda3\\lib\\site-packages\\sklearn\\neural_network\\_multilayer_perceptron.py:582: ConvergenceWarning: Stochastic Optimizer: Maximum iterations (200) reached and the optimization hasn't converged yet.\n",
      "  warnings.warn(\n"
     ]
    },
    {
     "data": {
      "text/plain": [
       "MLPClassifier()"
      ]
     },
     "execution_count": 20,
     "metadata": {},
     "output_type": "execute_result"
    }
   ],
   "source": [
    "# LogisticRegression Model\n",
    "logistic_classifier_model.fit(x_train, y_train)\n",
    "\n",
    "# RidgeClassifier Model\n",
    "ridge_classifier_model.fit(x_train, y_train)\n",
    "\n",
    "# DecisionTreeClassifier\n",
    "decision_tree_model.fit(x_train, y_train)\n",
    "\n",
    "# Naive Bayes - GaussianNB model\n",
    "naive_bayes_model.fit(x_train, y_train)\n",
    "\n",
    "#MLPClasssifer \n",
    "neural_network_model.fit(x_train, y_train)"
   ]
  },
  {
   "cell_type": "code",
   "execution_count": 21,
   "id": "57ce9809",
   "metadata": {},
   "outputs": [],
   "source": [
    "#PREDICTIONS"
   ]
  },
  {
   "cell_type": "code",
   "execution_count": 22,
   "id": "b317eb1a",
   "metadata": {},
   "outputs": [],
   "source": [
    "# LogisticRegression Model\n",
    "logistic_pred = logistic_classifier_model.predict(x_test)\n",
    "\n",
    "# RidgeClassifier Model\n",
    "ridge_pred = ridge_classifier_model.predict(x_test)\n",
    "\n",
    "# DecisionTreeClassifier\n",
    "decision_pred = decision_tree_model.predict(x_test)\n",
    "\n",
    "# Naive Bayes - GaussianNB model\n",
    "naive_bayes_pred = naive_bayes_model.predict(x_test)\n",
    "\n",
    "#MLPClasssifer \n",
    "neural_network_pred = neural_network_model.predict(x_test)"
   ]
  },
  {
   "cell_type": "code",
   "execution_count": 23,
   "id": "8e02e7fe",
   "metadata": {},
   "outputs": [],
   "source": [
    "# COMPARE PERFORMANCES - classification report"
   ]
  },
  {
   "cell_type": "code",
   "execution_count": 25,
   "id": "f2a73b74",
   "metadata": {},
   "outputs": [],
   "source": [
    "# LogisticRegression Model\n",
    "logistic_report = classification_report(y_test, logistic_pred)\n",
    "\n",
    "\n",
    "# RidgeClassifier Model\n",
    "ridge_report = classification_report(y_test, ridge_pred)\n",
    "\n",
    "# DecisionTreeClassifier\n",
    "decision_report = classification_report(y_test, decision_pred)\n",
    "\n",
    "# Naive Bayes - GaussianNB model\n",
    "naives_bayes_report = classification_report(y_test, naive_bayes_pred)\n",
    "\n",
    "#MLPClasssifer \n",
    "neural_network_report = classification_report(y_test, neural_network_pred)"
   ]
  },
  {
   "cell_type": "code",
   "execution_count": 26,
   "id": "24601fcc",
   "metadata": {},
   "outputs": [],
   "source": [
    "# REPORTs - RESULTs"
   ]
  },
  {
   "cell_type": "code",
   "execution_count": 28,
   "id": "de67e7fa",
   "metadata": {},
   "outputs": [
    {
     "name": "stdout",
     "output_type": "stream",
     "text": [
      "**** Logistic Regression ****\n",
      "              precision    recall  f1-score   support\n",
      "\n",
      "           0       0.81      0.79      0.80      1256\n",
      "           1       0.78      0.81      0.80      1182\n",
      "\n",
      "    accuracy                           0.80      2438\n",
      "   macro avg       0.80      0.80      0.80      2438\n",
      "weighted avg       0.80      0.80      0.80      2438\n",
      "\n",
      "**** Ridge Regression ****\n",
      "              precision    recall  f1-score   support\n",
      "\n",
      "           0       0.81      0.79      0.80      1256\n",
      "           1       0.78      0.81      0.80      1182\n",
      "\n",
      "    accuracy                           0.80      2438\n",
      "   macro avg       0.80      0.80      0.80      2438\n",
      "weighted avg       0.80      0.80      0.80      2438\n",
      "\n",
      "**** Decision Tree ****\n",
      "              precision    recall  f1-score   support\n",
      "\n",
      "           0       0.93      0.89      0.91      1256\n",
      "           1       0.89      0.93      0.91      1182\n",
      "\n",
      "    accuracy                           0.91      2438\n",
      "   macro avg       0.91      0.91      0.91      2438\n",
      "weighted avg       0.91      0.91      0.91      2438\n",
      "\n",
      "**** Naives Bayes /GaussianNB ****\n",
      "              precision    recall  f1-score   support\n",
      "\n",
      "           0       0.82      0.79      0.80      1256\n",
      "           1       0.79      0.81      0.80      1182\n",
      "\n",
      "    accuracy                           0.80      2438\n",
      "   macro avg       0.80      0.80      0.80      2438\n",
      "weighted avg       0.80      0.80      0.80      2438\n",
      "\n",
      "**** Neural Network ****\n",
      "              precision    recall  f1-score   support\n",
      "\n",
      "           0       0.89      0.89      0.89      1256\n",
      "           1       0.88      0.88      0.88      1182\n",
      "\n",
      "    accuracy                           0.88      2438\n",
      "   macro avg       0.88      0.88      0.88      2438\n",
      "weighted avg       0.88      0.88      0.88      2438\n",
      "\n"
     ]
    }
   ],
   "source": [
    "# LogisticRegression Model\n",
    "print(\"**** Logistic Regression ****\")\n",
    "print(logistic_report)\n",
    "\n",
    "\n",
    "# RidgeClassifier Model\n",
    "print(\"**** Ridge Regression ****\")\n",
    "print(ridge_report)\n",
    "\n",
    "# DecisionTreeClassifier\n",
    "print(\"**** Decision Tree ****\")\n",
    "print(decision_report)\n",
    "\n",
    "# Naive Bayes - GaussianNB model\n",
    "print(\"**** Naives Bayes /GaussianNB ****\")\n",
    "print(naives_bayes_report)\n",
    "\n",
    "#MLPClasssifer \n",
    "print(\"**** Neural Network ****\")\n",
    "print(neural_network_report)"
   ]
  },
  {
   "cell_type": "code",
   "execution_count": 30,
   "id": "fea0a5e9",
   "metadata": {},
   "outputs": [],
   "source": [
    "# Decision Tree Model seems the best accurcy.\n",
    "# Try Random Forest"
   ]
  },
  {
   "cell_type": "code",
   "execution_count": 31,
   "id": "dfbfc93c",
   "metadata": {},
   "outputs": [],
   "source": [
    "random_forest_model = RandomForestClassifier()\n",
    "random_forest_model.fit(x_train, y_train)\n",
    "random_forest_pred = random_forest_model.predict(x_test)"
   ]
  },
  {
   "cell_type": "code",
   "execution_count": 32,
   "id": "d5d7c89f",
   "metadata": {},
   "outputs": [
    {
     "name": "stdout",
     "output_type": "stream",
     "text": [
      "              precision    recall  f1-score   support\n",
      "\n",
      "           0       0.93      0.89      0.91      1256\n",
      "           1       0.89      0.93      0.91      1182\n",
      "\n",
      "    accuracy                           0.91      2438\n",
      "   macro avg       0.91      0.91      0.91      2438\n",
      "weighted avg       0.91      0.91      0.91      2438\n",
      "\n"
     ]
    }
   ],
   "source": [
    "random_forest_report = classification_report(y_test, random_forest_pred)\n",
    "print(random_forest_report)"
   ]
  },
  {
   "cell_type": "code",
   "execution_count": null,
   "id": "87832091",
   "metadata": {},
   "outputs": [],
   "source": []
  }
 ],
 "metadata": {
  "kernelspec": {
   "display_name": "Python 3",
   "language": "python",
   "name": "python3"
  },
  "language_info": {
   "codemirror_mode": {
    "name": "ipython",
    "version": 3
   },
   "file_extension": ".py",
   "mimetype": "text/x-python",
   "name": "python",
   "nbconvert_exporter": "python",
   "pygments_lexer": "ipython3",
   "version": "3.8.5"
  }
 },
 "nbformat": 4,
 "nbformat_minor": 5
}
