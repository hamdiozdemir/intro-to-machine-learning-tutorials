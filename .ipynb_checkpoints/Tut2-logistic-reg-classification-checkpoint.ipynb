{
 "cells": [
  {
   "cell_type": "code",
   "execution_count": 2,
   "id": "35968bb4",
   "metadata": {},
   "outputs": [],
   "source": [
    "import pandas as pd\n",
    "dataset = pd.read_csv('breast-cancer.csv')"
   ]
  },
  {
   "cell_type": "code",
   "execution_count": 3,
   "id": "ceee7647",
   "metadata": {},
   "outputs": [
    {
     "data": {
      "text/plain": [
       "(569, 31)"
      ]
     },
     "execution_count": 3,
     "metadata": {},
     "output_type": "execute_result"
    }
   ],
   "source": [
    "dataset.shape"
   ]
  },
  {
   "cell_type": "code",
   "execution_count": 4,
   "id": "cba148f1",
   "metadata": {},
   "outputs": [
    {
     "data": {
      "text/plain": [
       "<bound method NDFrame.head of     diagnosis  radius_mean  texture_mean  perimeter_mean  area_mean  \\\n",
       "0           M     1.097064     -2.073335        1.269934   0.984375   \n",
       "1           M     1.829821     -0.353632        1.685955   1.908708   \n",
       "2           M     1.579888      0.456187        1.566503   1.558884   \n",
       "3           M    -0.768909      0.253732       -0.592687  -0.764464   \n",
       "4           M     1.750297     -1.151816        1.776573   1.826229   \n",
       "..        ...          ...           ...             ...        ...   \n",
       "564         M     2.110995      0.721473        2.060786   2.343856   \n",
       "565         M     1.704854      2.085134        1.615931   1.723842   \n",
       "566         M     0.702284      2.045574        0.672676   0.577953   \n",
       "567         M     1.838341      2.336457        1.982524   1.735218   \n",
       "568         B    -1.808401      1.221792       -1.814389  -1.347789   \n",
       "\n",
       "     smoothness_mean  compactness_mean  concavity_mean  concave points_mean  \\\n",
       "0           1.568466          3.283515        2.652874             2.532475   \n",
       "1          -0.826962         -0.487072       -0.023846             0.548144   \n",
       "2           0.942210          1.052926        1.363478             2.037231   \n",
       "3           3.283553          3.402909        1.915897             1.451707   \n",
       "4           0.280372          0.539340        1.371011             1.428493   \n",
       "..               ...               ...             ...                  ...   \n",
       "564         1.041842          0.219060        1.947285             2.320965   \n",
       "565         0.102458         -0.017833        0.693043             1.263669   \n",
       "566        -0.840484         -0.038680        0.046588             0.105777   \n",
       "567         1.525767          3.272144        3.296944             2.658866   \n",
       "568        -3.112085         -1.150752       -1.114873            -1.261820   \n",
       "\n",
       "     symmetry_mean  ...  radius_worst  texture_worst  perimeter_worst  \\\n",
       "0         2.217515  ...      1.886690      -1.359293         2.303601   \n",
       "1         0.001392  ...      1.805927      -0.369203         1.535126   \n",
       "2         0.939685  ...      1.511870      -0.023974         1.347475   \n",
       "3         2.867383  ...     -0.281464       0.133984        -0.249939   \n",
       "4        -0.009560  ...      1.298575      -1.466770         1.338539   \n",
       "..             ...  ...           ...            ...              ...   \n",
       "564      -0.312589  ...      1.901185       0.117700         1.752563   \n",
       "565      -0.217664  ...      1.536720       2.047399         1.421940   \n",
       "566      -0.809117  ...      0.561361       1.374854         0.579001   \n",
       "567       2.137194  ...      1.961239       2.237926         2.303601   \n",
       "568      -0.820070  ...     -1.410893       0.764190        -1.432735   \n",
       "\n",
       "     area_worst  smoothness_worst  compactness_worst  concavity_worst  \\\n",
       "0      2.001237          1.307686           2.616665         2.109526   \n",
       "1      1.890489         -0.375612          -0.430444        -0.146749   \n",
       "2      1.456285          0.527407           1.082932         0.854974   \n",
       "3     -0.550021          3.394275           3.893397         1.989588   \n",
       "4      1.220724          0.220556          -0.313395         0.613179   \n",
       "..          ...               ...                ...              ...   \n",
       "564    2.015301          0.378365          -0.273318         0.664512   \n",
       "565    1.494959         -0.691230          -0.394820         0.236573   \n",
       "566    0.427906         -0.809587           0.350735         0.326767   \n",
       "567    1.653171          1.430427           3.904848         3.197605   \n",
       "568   -1.075813         -1.859019          -1.207552        -1.305831   \n",
       "\n",
       "     concave points_worst  symmetry_worst  fractal_dimension_worst  \n",
       "0                2.296076        2.750622                 1.937015  \n",
       "1                1.087084       -0.243890                 0.281190  \n",
       "2                1.955000        1.152255                 0.201391  \n",
       "3                2.175786        6.046041                 4.935010  \n",
       "4                0.729259       -0.868353                -0.397100  \n",
       "..                    ...             ...                      ...  \n",
       "564              1.629151       -1.360158                -0.709091  \n",
       "565              0.733827       -0.531855                -0.973978  \n",
       "566              0.414069       -1.104549                -0.318409  \n",
       "567              2.289985        1.919083                 2.219635  \n",
       "568             -1.745063       -0.048138                -0.751207  \n",
       "\n",
       "[569 rows x 31 columns]>"
      ]
     },
     "execution_count": 4,
     "metadata": {},
     "output_type": "execute_result"
    }
   ],
   "source": [
    "dataset.head"
   ]
  },
  {
   "cell_type": "code",
   "execution_count": 5,
   "id": "cdc2d062",
   "metadata": {},
   "outputs": [],
   "source": [
    "from sklearn.preprocessing import LabelEncoder\n",
    "labelencoder = LabelEncoder()"
   ]
  },
  {
   "cell_type": "code",
   "execution_count": 6,
   "id": "8b190453",
   "metadata": {},
   "outputs": [],
   "source": [
    "dataset['diagnosis'] = labelencoder.fit_transform(dataset['diagnosis'].values)"
   ]
  },
  {
   "cell_type": "code",
   "execution_count": 7,
   "id": "d9590fce",
   "metadata": {},
   "outputs": [
    {
     "data": {
      "text/plain": [
       "<bound method NDFrame.head of      diagnosis  radius_mean  texture_mean  perimeter_mean  area_mean  \\\n",
       "0            1     1.097064     -2.073335        1.269934   0.984375   \n",
       "1            1     1.829821     -0.353632        1.685955   1.908708   \n",
       "2            1     1.579888      0.456187        1.566503   1.558884   \n",
       "3            1    -0.768909      0.253732       -0.592687  -0.764464   \n",
       "4            1     1.750297     -1.151816        1.776573   1.826229   \n",
       "..         ...          ...           ...             ...        ...   \n",
       "564          1     2.110995      0.721473        2.060786   2.343856   \n",
       "565          1     1.704854      2.085134        1.615931   1.723842   \n",
       "566          1     0.702284      2.045574        0.672676   0.577953   \n",
       "567          1     1.838341      2.336457        1.982524   1.735218   \n",
       "568          0    -1.808401      1.221792       -1.814389  -1.347789   \n",
       "\n",
       "     smoothness_mean  compactness_mean  concavity_mean  concave points_mean  \\\n",
       "0           1.568466          3.283515        2.652874             2.532475   \n",
       "1          -0.826962         -0.487072       -0.023846             0.548144   \n",
       "2           0.942210          1.052926        1.363478             2.037231   \n",
       "3           3.283553          3.402909        1.915897             1.451707   \n",
       "4           0.280372          0.539340        1.371011             1.428493   \n",
       "..               ...               ...             ...                  ...   \n",
       "564         1.041842          0.219060        1.947285             2.320965   \n",
       "565         0.102458         -0.017833        0.693043             1.263669   \n",
       "566        -0.840484         -0.038680        0.046588             0.105777   \n",
       "567         1.525767          3.272144        3.296944             2.658866   \n",
       "568        -3.112085         -1.150752       -1.114873            -1.261820   \n",
       "\n",
       "     symmetry_mean  ...  radius_worst  texture_worst  perimeter_worst  \\\n",
       "0         2.217515  ...      1.886690      -1.359293         2.303601   \n",
       "1         0.001392  ...      1.805927      -0.369203         1.535126   \n",
       "2         0.939685  ...      1.511870      -0.023974         1.347475   \n",
       "3         2.867383  ...     -0.281464       0.133984        -0.249939   \n",
       "4        -0.009560  ...      1.298575      -1.466770         1.338539   \n",
       "..             ...  ...           ...            ...              ...   \n",
       "564      -0.312589  ...      1.901185       0.117700         1.752563   \n",
       "565      -0.217664  ...      1.536720       2.047399         1.421940   \n",
       "566      -0.809117  ...      0.561361       1.374854         0.579001   \n",
       "567       2.137194  ...      1.961239       2.237926         2.303601   \n",
       "568      -0.820070  ...     -1.410893       0.764190        -1.432735   \n",
       "\n",
       "     area_worst  smoothness_worst  compactness_worst  concavity_worst  \\\n",
       "0      2.001237          1.307686           2.616665         2.109526   \n",
       "1      1.890489         -0.375612          -0.430444        -0.146749   \n",
       "2      1.456285          0.527407           1.082932         0.854974   \n",
       "3     -0.550021          3.394275           3.893397         1.989588   \n",
       "4      1.220724          0.220556          -0.313395         0.613179   \n",
       "..          ...               ...                ...              ...   \n",
       "564    2.015301          0.378365          -0.273318         0.664512   \n",
       "565    1.494959         -0.691230          -0.394820         0.236573   \n",
       "566    0.427906         -0.809587           0.350735         0.326767   \n",
       "567    1.653171          1.430427           3.904848         3.197605   \n",
       "568   -1.075813         -1.859019          -1.207552        -1.305831   \n",
       "\n",
       "     concave points_worst  symmetry_worst  fractal_dimension_worst  \n",
       "0                2.296076        2.750622                 1.937015  \n",
       "1                1.087084       -0.243890                 0.281190  \n",
       "2                1.955000        1.152255                 0.201391  \n",
       "3                2.175786        6.046041                 4.935010  \n",
       "4                0.729259       -0.868353                -0.397100  \n",
       "..                    ...             ...                      ...  \n",
       "564              1.629151       -1.360158                -0.709091  \n",
       "565              0.733827       -0.531855                -0.973978  \n",
       "566              0.414069       -1.104549                -0.318409  \n",
       "567              2.289985        1.919083                 2.219635  \n",
       "568             -1.745063       -0.048138                -0.751207  \n",
       "\n",
       "[569 rows x 31 columns]>"
      ]
     },
     "execution_count": 7,
     "metadata": {},
     "output_type": "execute_result"
    }
   ],
   "source": [
    "dataset.head"
   ]
  },
  {
   "cell_type": "code",
   "execution_count": 8,
   "id": "8ddeec8e",
   "metadata": {},
   "outputs": [],
   "source": [
    "from sklearn.model_selection import train_test_split"
   ]
  },
  {
   "cell_type": "code",
   "execution_count": 9,
   "id": "95267121",
   "metadata": {},
   "outputs": [],
   "source": [
    "train, test = train_test_split(dataset, test_size=0.3)"
   ]
  },
  {
   "cell_type": "code",
   "execution_count": 10,
   "id": "490b0694",
   "metadata": {},
   "outputs": [],
   "source": [
    "x_train = train.drop('diagnosis', axis=1)\n",
    "y_train = train.loc[:, 'diagnosis']\n",
    "\n",
    "x_test = test.drop('diagnosis', axis=1)\n",
    "y_test = test.loc[:, 'diagnosis']"
   ]
  },
  {
   "cell_type": "code",
   "execution_count": 11,
   "id": "f7baedef",
   "metadata": {},
   "outputs": [],
   "source": [
    "from sklearn.linear_model import LogisticRegression\n",
    "model = LogisticRegression()"
   ]
  },
  {
   "cell_type": "code",
   "execution_count": 12,
   "id": "2827ff24",
   "metadata": {},
   "outputs": [
    {
     "data": {
      "text/plain": [
       "LogisticRegression()"
      ]
     },
     "execution_count": 12,
     "metadata": {},
     "output_type": "execute_result"
    }
   ],
   "source": [
    "model.fit(x_train, y_train)"
   ]
  },
  {
   "cell_type": "code",
   "execution_count": 13,
   "id": "bb85ba4b",
   "metadata": {},
   "outputs": [
    {
     "data": {
      "text/plain": [
       "array([0, 1, 1, 0, 1, 0, 0, 0, 0, 0, 0, 1, 1, 1, 0, 0, 0, 0, 0, 1, 1, 0,\n",
       "       0, 1, 0, 0, 1, 1, 0, 1, 0, 1, 1, 0, 0, 0, 1, 1, 1, 1, 1, 1, 0, 1,\n",
       "       0, 1, 0, 0, 0, 1, 1, 0, 1, 0, 1, 0, 0, 0, 1, 0, 0, 0, 0, 0, 1, 1,\n",
       "       1, 0, 1, 0, 0, 0, 0, 0, 0, 1, 0, 0, 0, 0, 1, 1, 0, 1, 0, 1, 1, 1,\n",
       "       0, 1, 0, 1, 0, 1, 1, 1, 0, 1, 1, 0, 1, 0, 0, 1, 0, 0, 0, 0, 1, 0,\n",
       "       0, 0, 0, 1, 0, 0, 1, 0, 1, 0, 0, 0, 0, 1, 0, 0, 0, 0, 1, 0, 1, 0,\n",
       "       0, 0, 0, 1, 0, 0, 0, 0, 1, 1, 1, 0, 0, 1, 1, 1, 1, 0, 1, 0, 1, 0,\n",
       "       0, 1, 0, 1, 0, 0, 1, 0, 0, 1, 1, 0, 0, 1, 0, 1, 0])"
      ]
     },
     "execution_count": 13,
     "metadata": {},
     "output_type": "execute_result"
    }
   ],
   "source": [
    "predictions = model.predict(x_test)\n",
    "predictions"
   ]
  },
  {
   "cell_type": "code",
   "execution_count": 14,
   "id": "113dad8b",
   "metadata": {},
   "outputs": [
    {
     "data": {
      "text/plain": [
       "array([[97,  1],\n",
       "       [ 3, 70]], dtype=int64)"
      ]
     },
     "execution_count": 14,
     "metadata": {},
     "output_type": "execute_result"
    }
   ],
   "source": [
    "from sklearn.metrics import confusion_matrix\n",
    "confusion_matrix(y_test, predictions)"
   ]
  },
  {
   "cell_type": "code",
   "execution_count": 15,
   "id": "a296594c",
   "metadata": {},
   "outputs": [
    {
     "name": "stdout",
     "output_type": "stream",
     "text": [
      "              precision    recall  f1-score   support\n",
      "\n",
      "           0       0.97      0.99      0.98        98\n",
      "           1       0.99      0.96      0.97        73\n",
      "\n",
      "    accuracy                           0.98       171\n",
      "   macro avg       0.98      0.97      0.98       171\n",
      "weighted avg       0.98      0.98      0.98       171\n",
      "\n"
     ]
    }
   ],
   "source": [
    "from sklearn.metrics import classification_report\n",
    "print(classification_report(y_test, predictions))"
   ]
  },
  {
   "cell_type": "code",
   "execution_count": 16,
   "id": "0b92f730",
   "metadata": {},
   "outputs": [],
   "source": [
    "# SVC \n"
   ]
  },
  {
   "cell_type": "code",
   "execution_count": 17,
   "id": "fa7b3b4c",
   "metadata": {},
   "outputs": [],
   "source": [
    "from sklearn.svm import LinearSVC"
   ]
  },
  {
   "cell_type": "code",
   "execution_count": 18,
   "id": "65443356",
   "metadata": {},
   "outputs": [],
   "source": [
    "model_2 = LinearSVC()"
   ]
  },
  {
   "cell_type": "code",
   "execution_count": 19,
   "id": "350abd40",
   "metadata": {},
   "outputs": [
    {
     "data": {
      "text/plain": [
       "LinearSVC()"
      ]
     },
     "execution_count": 19,
     "metadata": {},
     "output_type": "execute_result"
    }
   ],
   "source": [
    "model_2.fit(x_train, y_train)"
   ]
  },
  {
   "cell_type": "code",
   "execution_count": 20,
   "id": "decf2e49",
   "metadata": {},
   "outputs": [
    {
     "data": {
      "text/plain": [
       "array([0, 1, 0, 0, 0, 0, 0, 0, 0, 0, 0, 1, 1, 1, 0, 0, 0, 0, 1, 1, 1, 0,\n",
       "       0, 1, 0, 0, 1, 1, 0, 1, 0, 1, 1, 0, 0, 0, 1, 1, 1, 1, 1, 1, 0, 1,\n",
       "       0, 1, 0, 0, 0, 1, 1, 0, 1, 0, 1, 0, 0, 0, 1, 0, 0, 0, 0, 0, 1, 1,\n",
       "       1, 0, 1, 0, 0, 0, 0, 0, 0, 1, 0, 0, 0, 0, 1, 1, 1, 1, 0, 1, 1, 1,\n",
       "       0, 1, 0, 1, 0, 1, 1, 1, 0, 1, 1, 0, 1, 0, 0, 1, 0, 0, 0, 0, 1, 0,\n",
       "       0, 0, 0, 1, 0, 0, 1, 0, 1, 0, 0, 0, 0, 1, 0, 0, 0, 0, 1, 0, 1, 0,\n",
       "       0, 0, 0, 1, 0, 0, 0, 0, 1, 1, 1, 0, 0, 1, 1, 1, 1, 0, 1, 0, 1, 0,\n",
       "       0, 1, 0, 1, 0, 0, 1, 0, 0, 1, 1, 0, 0, 1, 0, 1, 0])"
      ]
     },
     "execution_count": 20,
     "metadata": {},
     "output_type": "execute_result"
    }
   ],
   "source": [
    "predictions = model_2.predict(x_test)\n",
    "predictions"
   ]
  },
  {
   "cell_type": "code",
   "execution_count": 21,
   "id": "fdc2644e",
   "metadata": {},
   "outputs": [
    {
     "data": {
      "text/plain": [
       "array([[97,  1],\n",
       "       [ 3, 70]], dtype=int64)"
      ]
     },
     "execution_count": 21,
     "metadata": {},
     "output_type": "execute_result"
    }
   ],
   "source": [
    "confusion_matrix(y_test, predictions)"
   ]
  },
  {
   "cell_type": "code",
   "execution_count": 23,
   "id": "81c9f729",
   "metadata": {},
   "outputs": [
    {
     "name": "stdout",
     "output_type": "stream",
     "text": [
      "              precision    recall  f1-score   support\n",
      "\n",
      "           0       0.97      0.99      0.98        98\n",
      "           1       0.99      0.96      0.97        73\n",
      "\n",
      "    accuracy                           0.98       171\n",
      "   macro avg       0.98      0.97      0.98       171\n",
      "weighted avg       0.98      0.98      0.98       171\n",
      "\n"
     ]
    }
   ],
   "source": [
    "print(classification_report(y_test, predictions))"
   ]
  },
  {
   "cell_type": "code",
   "execution_count": 24,
   "id": "52abced6",
   "metadata": {},
   "outputs": [
    {
     "data": {
      "text/html": [
       "<div>\n",
       "<style scoped>\n",
       "    .dataframe tbody tr th:only-of-type {\n",
       "        vertical-align: middle;\n",
       "    }\n",
       "\n",
       "    .dataframe tbody tr th {\n",
       "        vertical-align: top;\n",
       "    }\n",
       "\n",
       "    .dataframe thead th {\n",
       "        text-align: right;\n",
       "    }\n",
       "</style>\n",
       "<table border=\"1\" class=\"dataframe\">\n",
       "  <thead>\n",
       "    <tr style=\"text-align: right;\">\n",
       "      <th></th>\n",
       "      <th>radius_mean</th>\n",
       "      <th>texture_mean</th>\n",
       "      <th>perimeter_mean</th>\n",
       "      <th>area_mean</th>\n",
       "      <th>smoothness_mean</th>\n",
       "      <th>compactness_mean</th>\n",
       "      <th>concavity_mean</th>\n",
       "      <th>concave points_mean</th>\n",
       "      <th>symmetry_mean</th>\n",
       "      <th>fractal_dimension_mean</th>\n",
       "      <th>...</th>\n",
       "      <th>radius_worst</th>\n",
       "      <th>texture_worst</th>\n",
       "      <th>perimeter_worst</th>\n",
       "      <th>area_worst</th>\n",
       "      <th>smoothness_worst</th>\n",
       "      <th>compactness_worst</th>\n",
       "      <th>concavity_worst</th>\n",
       "      <th>concave points_worst</th>\n",
       "      <th>symmetry_worst</th>\n",
       "      <th>fractal_dimension_worst</th>\n",
       "    </tr>\n",
       "  </thead>\n",
       "  <tbody>\n",
       "    <tr>\n",
       "      <th>488</th>\n",
       "      <td>-0.695066</td>\n",
       "      <td>-0.725963</td>\n",
       "      <td>-0.678775</td>\n",
       "      <td>-0.666627</td>\n",
       "      <td>1.169940</td>\n",
       "      <td>-0.221940</td>\n",
       "      <td>-0.577646</td>\n",
       "      <td>-0.453952</td>\n",
       "      <td>0.151081</td>\n",
       "      <td>0.171869</td>\n",
       "      <td>...</td>\n",
       "      <td>-0.610726</td>\n",
       "      <td>-0.665579</td>\n",
       "      <td>-0.616305</td>\n",
       "      <td>-0.581488</td>\n",
       "      <td>0.886862</td>\n",
       "      <td>-0.677903</td>\n",
       "      <td>-0.591000</td>\n",
       "      <td>-0.250572</td>\n",
       "      <td>-0.156530</td>\n",
       "      <td>-0.205361</td>\n",
       "    </tr>\n",
       "    <tr>\n",
       "      <th>401</th>\n",
       "      <td>-0.624062</td>\n",
       "      <td>-1.950000</td>\n",
       "      <td>-0.652001</td>\n",
       "      <td>-0.603488</td>\n",
       "      <td>-0.543724</td>\n",
       "      <td>-0.983979</td>\n",
       "      <td>-0.787690</td>\n",
       "      <td>-0.798560</td>\n",
       "      <td>-0.768957</td>\n",
       "      <td>-1.047271</td>\n",
       "      <td>...</td>\n",
       "      <td>-0.511326</td>\n",
       "      <td>-0.901702</td>\n",
       "      <td>-0.584434</td>\n",
       "      <td>-0.511699</td>\n",
       "      <td>0.220556</td>\n",
       "      <td>-0.615561</td>\n",
       "      <td>-0.579486</td>\n",
       "      <td>-0.698082</td>\n",
       "      <td>-0.713046</td>\n",
       "      <td>-0.627629</td>\n",
       "    </tr>\n",
       "    <tr>\n",
       "      <th>324</th>\n",
       "      <td>-0.547378</td>\n",
       "      <td>-0.949362</td>\n",
       "      <td>-0.574975</td>\n",
       "      <td>-0.560257</td>\n",
       "      <td>-0.685343</td>\n",
       "      <td>-0.737042</td>\n",
       "      <td>-0.864527</td>\n",
       "      <td>-0.825385</td>\n",
       "      <td>-0.633872</td>\n",
       "      <td>-0.213719</td>\n",
       "      <td>...</td>\n",
       "      <td>-0.521680</td>\n",
       "      <td>-0.699776</td>\n",
       "      <td>-0.481077</td>\n",
       "      <td>-0.522949</td>\n",
       "      <td>-0.296707</td>\n",
       "      <td>-0.391004</td>\n",
       "      <td>-0.745960</td>\n",
       "      <td>-0.899073</td>\n",
       "      <td>-0.387872</td>\n",
       "      <td>-0.240273</td>\n",
       "    </tr>\n",
       "    <tr>\n",
       "      <th>277</th>\n",
       "      <td>1.329956</td>\n",
       "      <td>0.160649</td>\n",
       "      <td>1.191672</td>\n",
       "      <td>1.271629</td>\n",
       "      <td>-0.507430</td>\n",
       "      <td>-0.862311</td>\n",
       "      <td>-0.107964</td>\n",
       "      <td>0.245323</td>\n",
       "      <td>-0.955155</td>\n",
       "      <td>-1.819865</td>\n",
       "      <td>...</td>\n",
       "      <td>0.764302</td>\n",
       "      <td>-0.224272</td>\n",
       "      <td>0.647508</td>\n",
       "      <td>0.624792</td>\n",
       "      <td>-0.353694</td>\n",
       "      <td>-0.879559</td>\n",
       "      <td>-0.245578</td>\n",
       "      <td>0.225259</td>\n",
       "      <td>-0.539944</td>\n",
       "      <td>-1.472721</td>\n",
       "    </tr>\n",
       "    <tr>\n",
       "      <th>309</th>\n",
       "      <td>-0.305966</td>\n",
       "      <td>-1.268170</td>\n",
       "      <td>-0.381381</td>\n",
       "      <td>-0.353491</td>\n",
       "      <td>-0.913784</td>\n",
       "      <td>-1.269578</td>\n",
       "      <td>-1.057635</td>\n",
       "      <td>-1.034085</td>\n",
       "      <td>-1.309296</td>\n",
       "      <td>-1.079875</td>\n",
       "      <td>...</td>\n",
       "      <td>-0.318739</td>\n",
       "      <td>-1.347894</td>\n",
       "      <td>-0.396188</td>\n",
       "      <td>-0.365968</td>\n",
       "      <td>-1.348769</td>\n",
       "      <td>-1.245530</td>\n",
       "      <td>-1.218324</td>\n",
       "      <td>-1.207259</td>\n",
       "      <td>-1.284123</td>\n",
       "      <td>-1.005565</td>\n",
       "    </tr>\n",
       "    <tr>\n",
       "      <th>...</th>\n",
       "      <td>...</td>\n",
       "      <td>...</td>\n",
       "      <td>...</td>\n",
       "      <td>...</td>\n",
       "      <td>...</td>\n",
       "      <td>...</td>\n",
       "      <td>...</td>\n",
       "      <td>...</td>\n",
       "      <td>...</td>\n",
       "      <td>...</td>\n",
       "      <td>...</td>\n",
       "      <td>...</td>\n",
       "      <td>...</td>\n",
       "      <td>...</td>\n",
       "      <td>...</td>\n",
       "      <td>...</td>\n",
       "      <td>...</td>\n",
       "      <td>...</td>\n",
       "      <td>...</td>\n",
       "      <td>...</td>\n",
       "      <td>...</td>\n",
       "    </tr>\n",
       "    <tr>\n",
       "      <th>217</th>\n",
       "      <td>-1.115407</td>\n",
       "      <td>-0.421117</td>\n",
       "      <td>-1.108800</td>\n",
       "      <td>-0.949046</td>\n",
       "      <td>-1.125857</td>\n",
       "      <td>-0.857952</td>\n",
       "      <td>-0.389949</td>\n",
       "      <td>-0.985566</td>\n",
       "      <td>0.556336</td>\n",
       "      <td>0.049955</td>\n",
       "      <td>...</td>\n",
       "      <td>-0.991758</td>\n",
       "      <td>-0.196589</td>\n",
       "      <td>-0.949013</td>\n",
       "      <td>-0.838319</td>\n",
       "      <td>-1.626250</td>\n",
       "      <td>-0.728794</td>\n",
       "      <td>-0.382307</td>\n",
       "      <td>-1.201321</td>\n",
       "      <td>-0.052992</td>\n",
       "      <td>-0.324505</td>\n",
       "    </tr>\n",
       "    <tr>\n",
       "      <th>467</th>\n",
       "      <td>-1.266502</td>\n",
       "      <td>-0.276839</td>\n",
       "      <td>-1.273149</td>\n",
       "      <td>-1.048305</td>\n",
       "      <td>-0.942962</td>\n",
       "      <td>-0.948730</td>\n",
       "      <td>-0.929185</td>\n",
       "      <td>-1.113014</td>\n",
       "      <td>-0.480532</td>\n",
       "      <td>0.187463</td>\n",
       "      <td>...</td>\n",
       "      <td>-1.060095</td>\n",
       "      <td>-0.172162</td>\n",
       "      <td>-1.076794</td>\n",
       "      <td>-0.879630</td>\n",
       "      <td>0.281926</td>\n",
       "      <td>-0.819126</td>\n",
       "      <td>-0.998357</td>\n",
       "      <td>-1.364398</td>\n",
       "      <td>0.252769</td>\n",
       "      <td>-0.287930</td>\n",
       "    </tr>\n",
       "    <tr>\n",
       "      <th>194</th>\n",
       "      <td>0.208100</td>\n",
       "      <td>0.912292</td>\n",
       "      <td>0.347273</td>\n",
       "      <td>0.046959</td>\n",
       "      <td>0.572150</td>\n",
       "      <td>1.774977</td>\n",
       "      <td>1.015706</td>\n",
       "      <td>1.028170</td>\n",
       "      <td>-0.272428</td>\n",
       "      <td>0.556040</td>\n",
       "      <td>...</td>\n",
       "      <td>-0.039178</td>\n",
       "      <td>0.342424</td>\n",
       "      <td>0.337735</td>\n",
       "      <td>-0.168554</td>\n",
       "      <td>-0.033692</td>\n",
       "      <td>1.339296</td>\n",
       "      <td>0.895753</td>\n",
       "      <td>0.884571</td>\n",
       "      <td>0.160555</td>\n",
       "      <td>0.169804</td>\n",
       "    </tr>\n",
       "    <tr>\n",
       "      <th>185</th>\n",
       "      <td>-1.149488</td>\n",
       "      <td>-0.972632</td>\n",
       "      <td>-1.161936</td>\n",
       "      <td>-0.959569</td>\n",
       "      <td>-0.262620</td>\n",
       "      <td>-1.087644</td>\n",
       "      <td>-1.094823</td>\n",
       "      <td>-1.199811</td>\n",
       "      <td>-0.396560</td>\n",
       "      <td>-0.328545</td>\n",
       "      <td>...</td>\n",
       "      <td>-0.910995</td>\n",
       "      <td>-0.732345</td>\n",
       "      <td>-0.949311</td>\n",
       "      <td>-0.779780</td>\n",
       "      <td>0.864944</td>\n",
       "      <td>-0.969255</td>\n",
       "      <td>-1.272632</td>\n",
       "      <td>-1.586402</td>\n",
       "      <td>0.052164</td>\n",
       "      <td>-0.386571</td>\n",
       "    </tr>\n",
       "    <tr>\n",
       "      <th>281</th>\n",
       "      <td>-0.678025</td>\n",
       "      <td>-1.226283</td>\n",
       "      <td>-0.730262</td>\n",
       "      <td>-0.647287</td>\n",
       "      <td>-1.297366</td>\n",
       "      <td>-1.154922</td>\n",
       "      <td>-0.833014</td>\n",
       "      <td>-0.549132</td>\n",
       "      <td>1.056515</td>\n",
       "      <td>-0.236401</td>\n",
       "      <td>...</td>\n",
       "      <td>-0.612797</td>\n",
       "      <td>-1.207849</td>\n",
       "      <td>-0.672005</td>\n",
       "      <td>-0.609790</td>\n",
       "      <td>-1.261097</td>\n",
       "      <td>-1.076762</td>\n",
       "      <td>-0.982717</td>\n",
       "      <td>-0.482778</td>\n",
       "      <td>0.323951</td>\n",
       "      <td>-0.945716</td>\n",
       "    </tr>\n",
       "  </tbody>\n",
       "</table>\n",
       "<p>398 rows × 30 columns</p>\n",
       "</div>"
      ],
      "text/plain": [
       "     radius_mean  texture_mean  perimeter_mean  area_mean  smoothness_mean  \\\n",
       "488    -0.695066     -0.725963       -0.678775  -0.666627         1.169940   \n",
       "401    -0.624062     -1.950000       -0.652001  -0.603488        -0.543724   \n",
       "324    -0.547378     -0.949362       -0.574975  -0.560257        -0.685343   \n",
       "277     1.329956      0.160649        1.191672   1.271629        -0.507430   \n",
       "309    -0.305966     -1.268170       -0.381381  -0.353491        -0.913784   \n",
       "..           ...           ...             ...        ...              ...   \n",
       "217    -1.115407     -0.421117       -1.108800  -0.949046        -1.125857   \n",
       "467    -1.266502     -0.276839       -1.273149  -1.048305        -0.942962   \n",
       "194     0.208100      0.912292        0.347273   0.046959         0.572150   \n",
       "185    -1.149488     -0.972632       -1.161936  -0.959569        -0.262620   \n",
       "281    -0.678025     -1.226283       -0.730262  -0.647287        -1.297366   \n",
       "\n",
       "     compactness_mean  concavity_mean  concave points_mean  symmetry_mean  \\\n",
       "488         -0.221940       -0.577646            -0.453952       0.151081   \n",
       "401         -0.983979       -0.787690            -0.798560      -0.768957   \n",
       "324         -0.737042       -0.864527            -0.825385      -0.633872   \n",
       "277         -0.862311       -0.107964             0.245323      -0.955155   \n",
       "309         -1.269578       -1.057635            -1.034085      -1.309296   \n",
       "..                ...             ...                  ...            ...   \n",
       "217         -0.857952       -0.389949            -0.985566       0.556336   \n",
       "467         -0.948730       -0.929185            -1.113014      -0.480532   \n",
       "194          1.774977        1.015706             1.028170      -0.272428   \n",
       "185         -1.087644       -1.094823            -1.199811      -0.396560   \n",
       "281         -1.154922       -0.833014            -0.549132       1.056515   \n",
       "\n",
       "     fractal_dimension_mean  ...  radius_worst  texture_worst  \\\n",
       "488                0.171869  ...     -0.610726      -0.665579   \n",
       "401               -1.047271  ...     -0.511326      -0.901702   \n",
       "324               -0.213719  ...     -0.521680      -0.699776   \n",
       "277               -1.819865  ...      0.764302      -0.224272   \n",
       "309               -1.079875  ...     -0.318739      -1.347894   \n",
       "..                      ...  ...           ...            ...   \n",
       "217                0.049955  ...     -0.991758      -0.196589   \n",
       "467                0.187463  ...     -1.060095      -0.172162   \n",
       "194                0.556040  ...     -0.039178       0.342424   \n",
       "185               -0.328545  ...     -0.910995      -0.732345   \n",
       "281               -0.236401  ...     -0.612797      -1.207849   \n",
       "\n",
       "     perimeter_worst  area_worst  smoothness_worst  compactness_worst  \\\n",
       "488        -0.616305   -0.581488          0.886862          -0.677903   \n",
       "401        -0.584434   -0.511699          0.220556          -0.615561   \n",
       "324        -0.481077   -0.522949         -0.296707          -0.391004   \n",
       "277         0.647508    0.624792         -0.353694          -0.879559   \n",
       "309        -0.396188   -0.365968         -1.348769          -1.245530   \n",
       "..               ...         ...               ...                ...   \n",
       "217        -0.949013   -0.838319         -1.626250          -0.728794   \n",
       "467        -1.076794   -0.879630          0.281926          -0.819126   \n",
       "194         0.337735   -0.168554         -0.033692           1.339296   \n",
       "185        -0.949311   -0.779780          0.864944          -0.969255   \n",
       "281        -0.672005   -0.609790         -1.261097          -1.076762   \n",
       "\n",
       "     concavity_worst  concave points_worst  symmetry_worst  \\\n",
       "488        -0.591000             -0.250572       -0.156530   \n",
       "401        -0.579486             -0.698082       -0.713046   \n",
       "324        -0.745960             -0.899073       -0.387872   \n",
       "277        -0.245578              0.225259       -0.539944   \n",
       "309        -1.218324             -1.207259       -1.284123   \n",
       "..               ...                   ...             ...   \n",
       "217        -0.382307             -1.201321       -0.052992   \n",
       "467        -0.998357             -1.364398        0.252769   \n",
       "194         0.895753              0.884571        0.160555   \n",
       "185        -1.272632             -1.586402        0.052164   \n",
       "281        -0.982717             -0.482778        0.323951   \n",
       "\n",
       "     fractal_dimension_worst  \n",
       "488                -0.205361  \n",
       "401                -0.627629  \n",
       "324                -0.240273  \n",
       "277                -1.472721  \n",
       "309                -1.005565  \n",
       "..                       ...  \n",
       "217                -0.324505  \n",
       "467                -0.287930  \n",
       "194                 0.169804  \n",
       "185                -0.386571  \n",
       "281                -0.945716  \n",
       "\n",
       "[398 rows x 30 columns]"
      ]
     },
     "execution_count": 24,
     "metadata": {},
     "output_type": "execute_result"
    }
   ],
   "source": [
    "x_train"
   ]
  },
  {
   "cell_type": "code",
   "execution_count": null,
   "id": "f18249ee",
   "metadata": {},
   "outputs": [],
   "source": []
  },
  {
   "cell_type": "code",
   "execution_count": null,
   "id": "ab1d4197",
   "metadata": {},
   "outputs": [],
   "source": []
  },
  {
   "cell_type": "code",
   "execution_count": null,
   "id": "182394f0",
   "metadata": {},
   "outputs": [],
   "source": []
  }
 ],
 "metadata": {
  "kernelspec": {
   "display_name": "Python 3",
   "language": "python",
   "name": "python3"
  },
  "language_info": {
   "codemirror_mode": {
    "name": "ipython",
    "version": 3
   },
   "file_extension": ".py",
   "mimetype": "text/x-python",
   "name": "python",
   "nbconvert_exporter": "python",
   "pygments_lexer": "ipython3",
   "version": "3.8.5"
  }
 },
 "nbformat": 4,
 "nbformat_minor": 5
}
