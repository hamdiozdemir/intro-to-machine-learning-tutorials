{
 "cells": [
  {
   "cell_type": "code",
   "execution_count": 1,
   "id": "9abd05d3",
   "metadata": {},
   "outputs": [],
   "source": [
    "import pandas as pd"
   ]
  },
  {
   "cell_type": "code",
   "execution_count": 2,
   "id": "3ba54909",
   "metadata": {},
   "outputs": [],
   "source": [
    "train = pd.read_csv(\"train.csv\")"
   ]
  },
  {
   "cell_type": "code",
   "execution_count": 3,
   "id": "a570a202",
   "metadata": {},
   "outputs": [],
   "source": [
    "test = pd.read_csv(\"test.csv\")"
   ]
  },
  {
   "cell_type": "code",
   "execution_count": 4,
   "id": "de8c8648",
   "metadata": {},
   "outputs": [
    {
     "data": {
      "text/plain": [
       "Index(['OverallQual', 'YearBuilt', 'YearRemodAdd', 'TotalBsmtSF', '1stFlrSF',\n",
       "       'GrLivArea', 'FullBath', 'TotRmsAbvGrd', 'GarageCars', 'GarageArea',\n",
       "       'SalePrice', 'ExterQual_TA', 'Foundation_PConc', 'KitchenQual_TA'],\n",
       "      dtype='object')"
      ]
     },
     "execution_count": 4,
     "metadata": {},
     "output_type": "execute_result"
    }
   ],
   "source": [
    "train.columns"
   ]
  },
  {
   "cell_type": "code",
   "execution_count": 8,
   "id": "47351adb",
   "metadata": {},
   "outputs": [],
   "source": [
    "from sklearn.linear_model import LinearRegression\n",
    "model = LinearRegression()"
   ]
  },
  {
   "cell_type": "code",
   "execution_count": 9,
   "id": "c4468980",
   "metadata": {},
   "outputs": [],
   "source": [
    "x_train = train.drop('SalePrice', axis=1)\n",
    "y_train = train.loc[:, 'SalePrice']"
   ]
  },
  {
   "cell_type": "code",
   "execution_count": 10,
   "id": "4e76174b",
   "metadata": {},
   "outputs": [
    {
     "data": {
      "text/plain": [
       "LinearRegression()"
      ]
     },
     "execution_count": 10,
     "metadata": {},
     "output_type": "execute_result"
    }
   ],
   "source": [
    "model.fit(x_train, y_train)"
   ]
  },
  {
   "cell_type": "code",
   "execution_count": 12,
   "id": "2ad509ba",
   "metadata": {},
   "outputs": [],
   "source": [
    "x_test = test.drop('SalePrice', axis=1)\n",
    "y_test = test.loc[:, 'SalePrice']"
   ]
  },
  {
   "cell_type": "code",
   "execution_count": 13,
   "id": "bdbfdf0e",
   "metadata": {},
   "outputs": [],
   "source": [
    "predictions = model.predict(x_test)"
   ]
  },
  {
   "cell_type": "code",
   "execution_count": 14,
   "id": "74ba0bcd",
   "metadata": {},
   "outputs": [],
   "source": [
    "comparasion = pd.DataFrame({'Actual Values': y_test, \"Predictions\": predictions})"
   ]
  },
  {
   "cell_type": "code",
   "execution_count": 15,
   "id": "5213a54c",
   "metadata": {},
   "outputs": [
    {
     "data": {
      "text/html": [
       "<div>\n",
       "<style scoped>\n",
       "    .dataframe tbody tr th:only-of-type {\n",
       "        vertical-align: middle;\n",
       "    }\n",
       "\n",
       "    .dataframe tbody tr th {\n",
       "        vertical-align: top;\n",
       "    }\n",
       "\n",
       "    .dataframe thead th {\n",
       "        text-align: right;\n",
       "    }\n",
       "</style>\n",
       "<table border=\"1\" class=\"dataframe\">\n",
       "  <thead>\n",
       "    <tr style=\"text-align: right;\">\n",
       "      <th></th>\n",
       "      <th>Actual Values</th>\n",
       "      <th>Predictions</th>\n",
       "    </tr>\n",
       "  </thead>\n",
       "  <tbody>\n",
       "    <tr>\n",
       "      <th>0</th>\n",
       "      <td>118500</td>\n",
       "      <td>83380.944694</td>\n",
       "    </tr>\n",
       "    <tr>\n",
       "      <th>1</th>\n",
       "      <td>154900</td>\n",
       "      <td>105974.149765</td>\n",
       "    </tr>\n",
       "    <tr>\n",
       "      <th>2</th>\n",
       "      <td>133000</td>\n",
       "      <td>139238.138343</td>\n",
       "    </tr>\n",
       "    <tr>\n",
       "      <th>3</th>\n",
       "      <td>115000</td>\n",
       "      <td>104982.049557</td>\n",
       "    </tr>\n",
       "    <tr>\n",
       "      <th>4</th>\n",
       "      <td>154500</td>\n",
       "      <td>140473.360146</td>\n",
       "    </tr>\n",
       "  </tbody>\n",
       "</table>\n",
       "</div>"
      ],
      "text/plain": [
       "   Actual Values    Predictions\n",
       "0         118500   83380.944694\n",
       "1         154900  105974.149765\n",
       "2         133000  139238.138343\n",
       "3         115000  104982.049557\n",
       "4         154500  140473.360146"
      ]
     },
     "execution_count": 15,
     "metadata": {},
     "output_type": "execute_result"
    }
   ],
   "source": [
    "comparasion.head()"
   ]
  },
  {
   "cell_type": "code",
   "execution_count": 16,
   "id": "e73128b2",
   "metadata": {},
   "outputs": [
    {
     "data": {
      "text/html": [
       "<div>\n",
       "<style scoped>\n",
       "    .dataframe tbody tr th:only-of-type {\n",
       "        vertical-align: middle;\n",
       "    }\n",
       "\n",
       "    .dataframe tbody tr th {\n",
       "        vertical-align: top;\n",
       "    }\n",
       "\n",
       "    .dataframe thead th {\n",
       "        text-align: right;\n",
       "    }\n",
       "</style>\n",
       "<table border=\"1\" class=\"dataframe\">\n",
       "  <thead>\n",
       "    <tr style=\"text-align: right;\">\n",
       "      <th></th>\n",
       "      <th>Actual Values</th>\n",
       "      <th>Predictions</th>\n",
       "    </tr>\n",
       "  </thead>\n",
       "  <tbody>\n",
       "    <tr>\n",
       "      <th>324</th>\n",
       "      <td>132250</td>\n",
       "      <td>102816.796295</td>\n",
       "    </tr>\n",
       "    <tr>\n",
       "      <th>325</th>\n",
       "      <td>123000</td>\n",
       "      <td>121698.649065</td>\n",
       "    </tr>\n",
       "    <tr>\n",
       "      <th>326</th>\n",
       "      <td>316600</td>\n",
       "      <td>271745.844407</td>\n",
       "    </tr>\n",
       "    <tr>\n",
       "      <th>327</th>\n",
       "      <td>142000</td>\n",
       "      <td>131258.275591</td>\n",
       "    </tr>\n",
       "    <tr>\n",
       "      <th>328</th>\n",
       "      <td>250000</td>\n",
       "      <td>263005.372419</td>\n",
       "    </tr>\n",
       "  </tbody>\n",
       "</table>\n",
       "</div>"
      ],
      "text/plain": [
       "     Actual Values    Predictions\n",
       "324         132250  102816.796295\n",
       "325         123000  121698.649065\n",
       "326         316600  271745.844407\n",
       "327         142000  131258.275591\n",
       "328         250000  263005.372419"
      ]
     },
     "execution_count": 16,
     "metadata": {},
     "output_type": "execute_result"
    }
   ],
   "source": [
    "comparasion.tail()"
   ]
  },
  {
   "cell_type": "code",
   "execution_count": 17,
   "id": "7ed538b3",
   "metadata": {},
   "outputs": [],
   "source": [
    "from sklearn.metrics import mean_squared_error\n",
    "from numpy import sqrt"
   ]
  },
  {
   "cell_type": "code",
   "execution_count": 18,
   "id": "0a2b03e8",
   "metadata": {},
   "outputs": [
    {
     "data": {
      "text/plain": [
       "33186.384172367696"
      ]
     },
     "execution_count": 18,
     "metadata": {},
     "output_type": "execute_result"
    }
   ],
   "source": [
    "rmse = sqrt(mean_squared_error(y_test, predictions))\n",
    "rmse"
   ]
  },
  {
   "cell_type": "code",
   "execution_count": 20,
   "id": "bfea7e26",
   "metadata": {},
   "outputs": [
    {
     "data": {
      "text/html": [
       "<div>\n",
       "<style scoped>\n",
       "    .dataframe tbody tr th:only-of-type {\n",
       "        vertical-align: middle;\n",
       "    }\n",
       "\n",
       "    .dataframe tbody tr th {\n",
       "        vertical-align: top;\n",
       "    }\n",
       "\n",
       "    .dataframe thead th {\n",
       "        text-align: right;\n",
       "    }\n",
       "</style>\n",
       "<table border=\"1\" class=\"dataframe\">\n",
       "  <thead>\n",
       "    <tr style=\"text-align: right;\">\n",
       "      <th></th>\n",
       "      <th>OverallQual</th>\n",
       "      <th>YearBuilt</th>\n",
       "      <th>YearRemodAdd</th>\n",
       "      <th>TotalBsmtSF</th>\n",
       "      <th>1stFlrSF</th>\n",
       "      <th>GrLivArea</th>\n",
       "      <th>FullBath</th>\n",
       "      <th>TotRmsAbvGrd</th>\n",
       "      <th>GarageCars</th>\n",
       "      <th>GarageArea</th>\n",
       "      <th>SalePrice</th>\n",
       "      <th>ExterQual_TA</th>\n",
       "      <th>Foundation_PConc</th>\n",
       "      <th>KitchenQual_TA</th>\n",
       "    </tr>\n",
       "  </thead>\n",
       "  <tbody>\n",
       "    <tr>\n",
       "      <th>OverallQual</th>\n",
       "      <td>1.000000</td>\n",
       "      <td>0.572367</td>\n",
       "      <td>0.550407</td>\n",
       "      <td>0.557685</td>\n",
       "      <td>0.539527</td>\n",
       "      <td>0.628890</td>\n",
       "      <td>0.598265</td>\n",
       "      <td>0.482744</td>\n",
       "      <td>0.627897</td>\n",
       "      <td>0.579378</td>\n",
       "      <td>0.792263</td>\n",
       "      <td>-0.692146</td>\n",
       "      <td>0.593079</td>\n",
       "      <td>-0.579892</td>\n",
       "    </tr>\n",
       "    <tr>\n",
       "      <th>YearBuilt</th>\n",
       "      <td>0.572367</td>\n",
       "      <td>1.000000</td>\n",
       "      <td>0.615451</td>\n",
       "      <td>0.418706</td>\n",
       "      <td>0.315715</td>\n",
       "      <td>0.205311</td>\n",
       "      <td>0.496001</td>\n",
       "      <td>0.122193</td>\n",
       "      <td>0.530869</td>\n",
       "      <td>0.466243</td>\n",
       "      <td>0.503317</td>\n",
       "      <td>-0.608600</td>\n",
       "      <td>0.675289</td>\n",
       "      <td>-0.478635</td>\n",
       "    </tr>\n",
       "    <tr>\n",
       "      <th>YearRemodAdd</th>\n",
       "      <td>0.550407</td>\n",
       "      <td>0.615451</td>\n",
       "      <td>1.000000</td>\n",
       "      <td>0.305751</td>\n",
       "      <td>0.299912</td>\n",
       "      <td>0.300983</td>\n",
       "      <td>0.500358</td>\n",
       "      <td>0.189233</td>\n",
       "      <td>0.507051</td>\n",
       "      <td>0.459938</td>\n",
       "      <td>0.504414</td>\n",
       "      <td>-0.586210</td>\n",
       "      <td>0.608433</td>\n",
       "      <td>-0.621112</td>\n",
       "    </tr>\n",
       "    <tr>\n",
       "      <th>TotalBsmtSF</th>\n",
       "      <td>0.557685</td>\n",
       "      <td>0.418706</td>\n",
       "      <td>0.305751</td>\n",
       "      <td>1.000000</td>\n",
       "      <td>0.912271</td>\n",
       "      <td>0.517430</td>\n",
       "      <td>0.370448</td>\n",
       "      <td>0.337671</td>\n",
       "      <td>0.476327</td>\n",
       "      <td>0.539858</td>\n",
       "      <td>0.612205</td>\n",
       "      <td>-0.414837</td>\n",
       "      <td>0.330111</td>\n",
       "      <td>-0.353424</td>\n",
       "    </tr>\n",
       "    <tr>\n",
       "      <th>1stFlrSF</th>\n",
       "      <td>0.539527</td>\n",
       "      <td>0.315715</td>\n",
       "      <td>0.299912</td>\n",
       "      <td>0.912271</td>\n",
       "      <td>1.000000</td>\n",
       "      <td>0.589766</td>\n",
       "      <td>0.392271</td>\n",
       "      <td>0.416777</td>\n",
       "      <td>0.472616</td>\n",
       "      <td>0.531808</td>\n",
       "      <td>0.621057</td>\n",
       "      <td>-0.355415</td>\n",
       "      <td>0.262008</td>\n",
       "      <td>-0.315156</td>\n",
       "    </tr>\n",
       "    <tr>\n",
       "      <th>GrLivArea</th>\n",
       "      <td>0.628890</td>\n",
       "      <td>0.205311</td>\n",
       "      <td>0.300983</td>\n",
       "      <td>0.517430</td>\n",
       "      <td>0.589766</td>\n",
       "      <td>1.000000</td>\n",
       "      <td>0.624707</td>\n",
       "      <td>0.826999</td>\n",
       "      <td>0.492914</td>\n",
       "      <td>0.499800</td>\n",
       "      <td>0.712054</td>\n",
       "      <td>-0.427637</td>\n",
       "      <td>0.340340</td>\n",
       "      <td>-0.384288</td>\n",
       "    </tr>\n",
       "    <tr>\n",
       "      <th>FullBath</th>\n",
       "      <td>0.598265</td>\n",
       "      <td>0.496001</td>\n",
       "      <td>0.500358</td>\n",
       "      <td>0.370448</td>\n",
       "      <td>0.392271</td>\n",
       "      <td>0.624707</td>\n",
       "      <td>1.000000</td>\n",
       "      <td>0.550967</td>\n",
       "      <td>0.528268</td>\n",
       "      <td>0.465081</td>\n",
       "      <td>0.597505</td>\n",
       "      <td>-0.516471</td>\n",
       "      <td>0.519781</td>\n",
       "      <td>-0.474227</td>\n",
       "    </tr>\n",
       "    <tr>\n",
       "      <th>TotRmsAbvGrd</th>\n",
       "      <td>0.482744</td>\n",
       "      <td>0.122193</td>\n",
       "      <td>0.189233</td>\n",
       "      <td>0.337671</td>\n",
       "      <td>0.416777</td>\n",
       "      <td>0.826999</td>\n",
       "      <td>0.550967</td>\n",
       "      <td>1.000000</td>\n",
       "      <td>0.426842</td>\n",
       "      <td>0.389448</td>\n",
       "      <td>0.573845</td>\n",
       "      <td>-0.307535</td>\n",
       "      <td>0.255900</td>\n",
       "      <td>-0.251362</td>\n",
       "    </tr>\n",
       "    <tr>\n",
       "      <th>GarageCars</th>\n",
       "      <td>0.627897</td>\n",
       "      <td>0.530869</td>\n",
       "      <td>0.507051</td>\n",
       "      <td>0.476327</td>\n",
       "      <td>0.472616</td>\n",
       "      <td>0.492914</td>\n",
       "      <td>0.528268</td>\n",
       "      <td>0.426842</td>\n",
       "      <td>1.000000</td>\n",
       "      <td>0.845512</td>\n",
       "      <td>0.658355</td>\n",
       "      <td>-0.543945</td>\n",
       "      <td>0.517289</td>\n",
       "      <td>-0.465095</td>\n",
       "    </tr>\n",
       "    <tr>\n",
       "      <th>GarageArea</th>\n",
       "      <td>0.579378</td>\n",
       "      <td>0.466243</td>\n",
       "      <td>0.459938</td>\n",
       "      <td>0.539858</td>\n",
       "      <td>0.531808</td>\n",
       "      <td>0.499800</td>\n",
       "      <td>0.465081</td>\n",
       "      <td>0.389448</td>\n",
       "      <td>0.845512</td>\n",
       "      <td>1.000000</td>\n",
       "      <td>0.621354</td>\n",
       "      <td>-0.511492</td>\n",
       "      <td>0.451725</td>\n",
       "      <td>-0.455758</td>\n",
       "    </tr>\n",
       "    <tr>\n",
       "      <th>SalePrice</th>\n",
       "      <td>0.792263</td>\n",
       "      <td>0.503317</td>\n",
       "      <td>0.504414</td>\n",
       "      <td>0.612205</td>\n",
       "      <td>0.621057</td>\n",
       "      <td>0.712054</td>\n",
       "      <td>0.597505</td>\n",
       "      <td>0.573845</td>\n",
       "      <td>0.658355</td>\n",
       "      <td>0.621354</td>\n",
       "      <td>1.000000</td>\n",
       "      <td>-0.598202</td>\n",
       "      <td>0.517222</td>\n",
       "      <td>-0.527176</td>\n",
       "    </tr>\n",
       "    <tr>\n",
       "      <th>ExterQual_TA</th>\n",
       "      <td>-0.692146</td>\n",
       "      <td>-0.608600</td>\n",
       "      <td>-0.586210</td>\n",
       "      <td>-0.414837</td>\n",
       "      <td>-0.355415</td>\n",
       "      <td>-0.427637</td>\n",
       "      <td>-0.516471</td>\n",
       "      <td>-0.307535</td>\n",
       "      <td>-0.543945</td>\n",
       "      <td>-0.511492</td>\n",
       "      <td>-0.598202</td>\n",
       "      <td>1.000000</td>\n",
       "      <td>-0.673381</td>\n",
       "      <td>0.683627</td>\n",
       "    </tr>\n",
       "    <tr>\n",
       "      <th>Foundation_PConc</th>\n",
       "      <td>0.593079</td>\n",
       "      <td>0.675289</td>\n",
       "      <td>0.608433</td>\n",
       "      <td>0.330111</td>\n",
       "      <td>0.262008</td>\n",
       "      <td>0.340340</td>\n",
       "      <td>0.519781</td>\n",
       "      <td>0.255900</td>\n",
       "      <td>0.517289</td>\n",
       "      <td>0.451725</td>\n",
       "      <td>0.517222</td>\n",
       "      <td>-0.673381</td>\n",
       "      <td>1.000000</td>\n",
       "      <td>-0.600103</td>\n",
       "    </tr>\n",
       "    <tr>\n",
       "      <th>KitchenQual_TA</th>\n",
       "      <td>-0.579892</td>\n",
       "      <td>-0.478635</td>\n",
       "      <td>-0.621112</td>\n",
       "      <td>-0.353424</td>\n",
       "      <td>-0.315156</td>\n",
       "      <td>-0.384288</td>\n",
       "      <td>-0.474227</td>\n",
       "      <td>-0.251362</td>\n",
       "      <td>-0.465095</td>\n",
       "      <td>-0.455758</td>\n",
       "      <td>-0.527176</td>\n",
       "      <td>0.683627</td>\n",
       "      <td>-0.600103</td>\n",
       "      <td>1.000000</td>\n",
       "    </tr>\n",
       "  </tbody>\n",
       "</table>\n",
       "</div>"
      ],
      "text/plain": [
       "                  OverallQual  YearBuilt  YearRemodAdd  TotalBsmtSF  1stFlrSF  \\\n",
       "OverallQual          1.000000   0.572367      0.550407     0.557685  0.539527   \n",
       "YearBuilt            0.572367   1.000000      0.615451     0.418706  0.315715   \n",
       "YearRemodAdd         0.550407   0.615451      1.000000     0.305751  0.299912   \n",
       "TotalBsmtSF          0.557685   0.418706      0.305751     1.000000  0.912271   \n",
       "1stFlrSF             0.539527   0.315715      0.299912     0.912271  1.000000   \n",
       "GrLivArea            0.628890   0.205311      0.300983     0.517430  0.589766   \n",
       "FullBath             0.598265   0.496001      0.500358     0.370448  0.392271   \n",
       "TotRmsAbvGrd         0.482744   0.122193      0.189233     0.337671  0.416777   \n",
       "GarageCars           0.627897   0.530869      0.507051     0.476327  0.472616   \n",
       "GarageArea           0.579378   0.466243      0.459938     0.539858  0.531808   \n",
       "SalePrice            0.792263   0.503317      0.504414     0.612205  0.621057   \n",
       "ExterQual_TA        -0.692146  -0.608600     -0.586210    -0.414837 -0.355415   \n",
       "Foundation_PConc     0.593079   0.675289      0.608433     0.330111  0.262008   \n",
       "KitchenQual_TA      -0.579892  -0.478635     -0.621112    -0.353424 -0.315156   \n",
       "\n",
       "                  GrLivArea  FullBath  TotRmsAbvGrd  GarageCars  GarageArea  \\\n",
       "OverallQual        0.628890  0.598265      0.482744    0.627897    0.579378   \n",
       "YearBuilt          0.205311  0.496001      0.122193    0.530869    0.466243   \n",
       "YearRemodAdd       0.300983  0.500358      0.189233    0.507051    0.459938   \n",
       "TotalBsmtSF        0.517430  0.370448      0.337671    0.476327    0.539858   \n",
       "1stFlrSF           0.589766  0.392271      0.416777    0.472616    0.531808   \n",
       "GrLivArea          1.000000  0.624707      0.826999    0.492914    0.499800   \n",
       "FullBath           0.624707  1.000000      0.550967    0.528268    0.465081   \n",
       "TotRmsAbvGrd       0.826999  0.550967      1.000000    0.426842    0.389448   \n",
       "GarageCars         0.492914  0.528268      0.426842    1.000000    0.845512   \n",
       "GarageArea         0.499800  0.465081      0.389448    0.845512    1.000000   \n",
       "SalePrice          0.712054  0.597505      0.573845    0.658355    0.621354   \n",
       "ExterQual_TA      -0.427637 -0.516471     -0.307535   -0.543945   -0.511492   \n",
       "Foundation_PConc   0.340340  0.519781      0.255900    0.517289    0.451725   \n",
       "KitchenQual_TA    -0.384288 -0.474227     -0.251362   -0.465095   -0.455758   \n",
       "\n",
       "                  SalePrice  ExterQual_TA  Foundation_PConc  KitchenQual_TA  \n",
       "OverallQual        0.792263     -0.692146          0.593079       -0.579892  \n",
       "YearBuilt          0.503317     -0.608600          0.675289       -0.478635  \n",
       "YearRemodAdd       0.504414     -0.586210          0.608433       -0.621112  \n",
       "TotalBsmtSF        0.612205     -0.414837          0.330111       -0.353424  \n",
       "1stFlrSF           0.621057     -0.355415          0.262008       -0.315156  \n",
       "GrLivArea          0.712054     -0.427637          0.340340       -0.384288  \n",
       "FullBath           0.597505     -0.516471          0.519781       -0.474227  \n",
       "TotRmsAbvGrd       0.573845     -0.307535          0.255900       -0.251362  \n",
       "GarageCars         0.658355     -0.543945          0.517289       -0.465095  \n",
       "GarageArea         0.621354     -0.511492          0.451725       -0.455758  \n",
       "SalePrice          1.000000     -0.598202          0.517222       -0.527176  \n",
       "ExterQual_TA      -0.598202      1.000000         -0.673381        0.683627  \n",
       "Foundation_PConc   0.517222     -0.673381          1.000000       -0.600103  \n",
       "KitchenQual_TA    -0.527176      0.683627         -0.600103        1.000000  "
      ]
     },
     "execution_count": 20,
     "metadata": {},
     "output_type": "execute_result"
    }
   ],
   "source": [
    "correlations = train.corr()\n",
    "correlations"
   ]
  },
  {
   "cell_type": "code",
   "execution_count": 22,
   "id": "ff8e5e01",
   "metadata": {},
   "outputs": [
    {
     "data": {
      "text/plain": [
       "OverallQual         0.792263\n",
       "YearBuilt           0.503317\n",
       "YearRemodAdd        0.504414\n",
       "TotalBsmtSF         0.612205\n",
       "1stFlrSF            0.621057\n",
       "GrLivArea           0.712054\n",
       "FullBath            0.597505\n",
       "TotRmsAbvGrd        0.573845\n",
       "GarageCars          0.658355\n",
       "GarageArea          0.621354\n",
       "SalePrice           1.000000\n",
       "ExterQual_TA       -0.598202\n",
       "Foundation_PConc    0.517222\n",
       "KitchenQual_TA     -0.527176\n",
       "Name: SalePrice, dtype: float64"
      ]
     },
     "execution_count": 22,
     "metadata": {},
     "output_type": "execute_result"
    }
   ],
   "source": [
    "saleprice_correlations = correlations['SalePrice']\n",
    "saleprice_correlations"
   ]
  },
  {
   "cell_type": "code",
   "execution_count": 23,
   "id": "8f7ea5f9",
   "metadata": {},
   "outputs": [
    {
     "data": {
      "text/plain": [
       "SalePrice           1.000000\n",
       "OverallQual         0.792263\n",
       "GrLivArea           0.712054\n",
       "GarageCars          0.658355\n",
       "GarageArea          0.621354\n",
       "1stFlrSF            0.621057\n",
       "TotalBsmtSF         0.612205\n",
       "FullBath            0.597505\n",
       "TotRmsAbvGrd        0.573845\n",
       "Foundation_PConc    0.517222\n",
       "Name: SalePrice, dtype: float64"
      ]
     },
     "execution_count": 23,
     "metadata": {},
     "output_type": "execute_result"
    }
   ],
   "source": [
    "saleprice_correlations.sort_values(ascending=False).head(10)"
   ]
  },
  {
   "cell_type": "code",
   "execution_count": null,
   "id": "7910f2f2",
   "metadata": {},
   "outputs": [],
   "source": []
  }
 ],
 "metadata": {
  "kernelspec": {
   "display_name": "Python 3",
   "language": "python",
   "name": "python3"
  },
  "language_info": {
   "codemirror_mode": {
    "name": "ipython",
    "version": 3
   },
   "file_extension": ".py",
   "mimetype": "text/x-python",
   "name": "python",
   "nbconvert_exporter": "python",
   "pygments_lexer": "ipython3",
   "version": "3.8.5"
  }
 },
 "nbformat": 4,
 "nbformat_minor": 5
}
